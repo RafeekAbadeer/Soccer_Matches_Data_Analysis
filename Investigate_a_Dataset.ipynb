{
 "cells": [
  {
   "cell_type": "markdown",
   "metadata": {},
   "source": [
    "\n",
    "# Project: Investigate a Soccer Database\n",
    "\n",
    "## Table of Contents\n",
    "<ul>\n",
    "<li><a href=\"#intro\">Introduction</a></li>\n",
    "<li><a href=\"#wrangling\">Data Wrangling</a></li>\n",
    "<li><a href=\"#eda\">Exploratory Data Analysis</a></li>\n",
    "<li><a href=\"#conclusions\">Conclusions</a></li>\n",
    "</ul>"
   ]
  },
  {
   "cell_type": "markdown",
   "metadata": {},
   "source": [
    "<a id='intro'></a>\n",
    "## Introduction\n",
    "\n",
    ">This dataset is in the form of sqlite database, it has serveral tables, some of them just linking IDs with names, and others contain thousands of rows of data.\n",
    "The database has data about matches, teams, and players for a time span starts from season 2008/2009 till 2015/2016\n",
    "in this analysis we will try to answer the following question:\n",
    "- What teams improved the most over the time period?\n",
    "- What team attributes lead to the most victories?"
   ]
  },
  {
   "cell_type": "code",
   "execution_count": 1,
   "metadata": {},
   "outputs": [],
   "source": [
    "import pandas as pd\n",
    "import numpy as np\n",
    "import matplotlib.pyplot as plt\n",
    "import sqlite3\n",
    "% matplotlib inline\n",
    "import seaborn as sns"
   ]
  },
  {
   "cell_type": "code",
   "execution_count": 2,
   "metadata": {},
   "outputs": [],
   "source": [
    "con = sqlite3.connect('database.sqlite')\n",
    "cursor = con.cursor()"
   ]
  },
  {
   "cell_type": "markdown",
   "metadata": {},
   "source": [
    "<a id='wrangling'></a>\n",
    "## Data Wrangling\n",
    "\n",
    "\n",
    "### General Properties"
   ]
  },
  {
   "cell_type": "markdown",
   "metadata": {},
   "source": [
    "Let's see what tables we have in this database"
   ]
  },
  {
   "cell_type": "code",
   "execution_count": 3,
   "metadata": {},
   "outputs": [
    {
     "name": "stdout",
     "output_type": "stream",
     "text": [
      "[('sqlite_sequence',), ('Player_Attributes',), ('Player',), ('Match',), ('League',), ('Country',), ('Team',), ('Team_Attributes',)]\n"
     ]
    }
   ],
   "source": [
    "cursor.execute(\"SELECT name FROM sqlite_master WHERE type='table';\")\n",
    "print(cursor.fetchall())"
   ]
  },
  {
   "cell_type": "markdown",
   "metadata": {},
   "source": [
    "After consulting [database documentation](https://www.kaggle.com/hugomathien/soccer), we will focus on 3 database tables:\n",
    "- Match\n",
    "- Team\n",
    "- Team_Attributes\n",
    "\n",
    "Let's load them into dataframes then close the connection."
   ]
  },
  {
   "cell_type": "code",
   "execution_count": 4,
   "metadata": {},
   "outputs": [
    {
     "data": {
      "text/html": [
       "<div>\n",
       "<style scoped>\n",
       "    .dataframe tbody tr th:only-of-type {\n",
       "        vertical-align: middle;\n",
       "    }\n",
       "\n",
       "    .dataframe tbody tr th {\n",
       "        vertical-align: top;\n",
       "    }\n",
       "\n",
       "    .dataframe thead th {\n",
       "        text-align: right;\n",
       "    }\n",
       "</style>\n",
       "<table border=\"1\" class=\"dataframe\">\n",
       "  <thead>\n",
       "    <tr style=\"text-align: right;\">\n",
       "      <th></th>\n",
       "      <th>id</th>\n",
       "      <th>country_id</th>\n",
       "      <th>league_id</th>\n",
       "      <th>season</th>\n",
       "      <th>stage</th>\n",
       "      <th>date</th>\n",
       "      <th>match_api_id</th>\n",
       "      <th>home_team_api_id</th>\n",
       "      <th>away_team_api_id</th>\n",
       "      <th>home_team_goal</th>\n",
       "      <th>...</th>\n",
       "      <th>SJA</th>\n",
       "      <th>VCH</th>\n",
       "      <th>VCD</th>\n",
       "      <th>VCA</th>\n",
       "      <th>GBH</th>\n",
       "      <th>GBD</th>\n",
       "      <th>GBA</th>\n",
       "      <th>BSH</th>\n",
       "      <th>BSD</th>\n",
       "      <th>BSA</th>\n",
       "    </tr>\n",
       "  </thead>\n",
       "  <tbody>\n",
       "    <tr>\n",
       "      <th>0</th>\n",
       "      <td>1</td>\n",
       "      <td>1</td>\n",
       "      <td>1</td>\n",
       "      <td>2008/2009</td>\n",
       "      <td>1</td>\n",
       "      <td>2008-08-17 00:00:00</td>\n",
       "      <td>492473</td>\n",
       "      <td>9987</td>\n",
       "      <td>9993</td>\n",
       "      <td>1</td>\n",
       "      <td>...</td>\n",
       "      <td>4.00</td>\n",
       "      <td>1.65</td>\n",
       "      <td>3.40</td>\n",
       "      <td>4.50</td>\n",
       "      <td>1.78</td>\n",
       "      <td>3.25</td>\n",
       "      <td>4.00</td>\n",
       "      <td>1.73</td>\n",
       "      <td>3.40</td>\n",
       "      <td>4.20</td>\n",
       "    </tr>\n",
       "    <tr>\n",
       "      <th>1</th>\n",
       "      <td>2</td>\n",
       "      <td>1</td>\n",
       "      <td>1</td>\n",
       "      <td>2008/2009</td>\n",
       "      <td>1</td>\n",
       "      <td>2008-08-16 00:00:00</td>\n",
       "      <td>492474</td>\n",
       "      <td>10000</td>\n",
       "      <td>9994</td>\n",
       "      <td>0</td>\n",
       "      <td>...</td>\n",
       "      <td>3.80</td>\n",
       "      <td>2.00</td>\n",
       "      <td>3.25</td>\n",
       "      <td>3.25</td>\n",
       "      <td>1.85</td>\n",
       "      <td>3.25</td>\n",
       "      <td>3.75</td>\n",
       "      <td>1.91</td>\n",
       "      <td>3.25</td>\n",
       "      <td>3.60</td>\n",
       "    </tr>\n",
       "    <tr>\n",
       "      <th>2</th>\n",
       "      <td>3</td>\n",
       "      <td>1</td>\n",
       "      <td>1</td>\n",
       "      <td>2008/2009</td>\n",
       "      <td>1</td>\n",
       "      <td>2008-08-16 00:00:00</td>\n",
       "      <td>492475</td>\n",
       "      <td>9984</td>\n",
       "      <td>8635</td>\n",
       "      <td>0</td>\n",
       "      <td>...</td>\n",
       "      <td>2.50</td>\n",
       "      <td>2.35</td>\n",
       "      <td>3.25</td>\n",
       "      <td>2.65</td>\n",
       "      <td>2.50</td>\n",
       "      <td>3.20</td>\n",
       "      <td>2.50</td>\n",
       "      <td>2.30</td>\n",
       "      <td>3.20</td>\n",
       "      <td>2.75</td>\n",
       "    </tr>\n",
       "    <tr>\n",
       "      <th>3</th>\n",
       "      <td>4</td>\n",
       "      <td>1</td>\n",
       "      <td>1</td>\n",
       "      <td>2008/2009</td>\n",
       "      <td>1</td>\n",
       "      <td>2008-08-17 00:00:00</td>\n",
       "      <td>492476</td>\n",
       "      <td>9991</td>\n",
       "      <td>9998</td>\n",
       "      <td>5</td>\n",
       "      <td>...</td>\n",
       "      <td>7.50</td>\n",
       "      <td>1.45</td>\n",
       "      <td>3.75</td>\n",
       "      <td>6.50</td>\n",
       "      <td>1.50</td>\n",
       "      <td>3.75</td>\n",
       "      <td>5.50</td>\n",
       "      <td>1.44</td>\n",
       "      <td>3.75</td>\n",
       "      <td>6.50</td>\n",
       "    </tr>\n",
       "    <tr>\n",
       "      <th>4</th>\n",
       "      <td>5</td>\n",
       "      <td>1</td>\n",
       "      <td>1</td>\n",
       "      <td>2008/2009</td>\n",
       "      <td>1</td>\n",
       "      <td>2008-08-16 00:00:00</td>\n",
       "      <td>492477</td>\n",
       "      <td>7947</td>\n",
       "      <td>9985</td>\n",
       "      <td>1</td>\n",
       "      <td>...</td>\n",
       "      <td>1.73</td>\n",
       "      <td>4.50</td>\n",
       "      <td>3.40</td>\n",
       "      <td>1.65</td>\n",
       "      <td>4.50</td>\n",
       "      <td>3.50</td>\n",
       "      <td>1.65</td>\n",
       "      <td>4.75</td>\n",
       "      <td>3.30</td>\n",
       "      <td>1.67</td>\n",
       "    </tr>\n",
       "  </tbody>\n",
       "</table>\n",
       "<p>5 rows × 115 columns</p>\n",
       "</div>"
      ],
      "text/plain": [
       "   id  country_id  league_id     season  stage                 date  \\\n",
       "0   1           1          1  2008/2009      1  2008-08-17 00:00:00   \n",
       "1   2           1          1  2008/2009      1  2008-08-16 00:00:00   \n",
       "2   3           1          1  2008/2009      1  2008-08-16 00:00:00   \n",
       "3   4           1          1  2008/2009      1  2008-08-17 00:00:00   \n",
       "4   5           1          1  2008/2009      1  2008-08-16 00:00:00   \n",
       "\n",
       "   match_api_id  home_team_api_id  away_team_api_id  home_team_goal  ...   \\\n",
       "0        492473              9987              9993               1  ...    \n",
       "1        492474             10000              9994               0  ...    \n",
       "2        492475              9984              8635               0  ...    \n",
       "3        492476              9991              9998               5  ...    \n",
       "4        492477              7947              9985               1  ...    \n",
       "\n",
       "    SJA   VCH   VCD   VCA   GBH   GBD   GBA   BSH   BSD   BSA  \n",
       "0  4.00  1.65  3.40  4.50  1.78  3.25  4.00  1.73  3.40  4.20  \n",
       "1  3.80  2.00  3.25  3.25  1.85  3.25  3.75  1.91  3.25  3.60  \n",
       "2  2.50  2.35  3.25  2.65  2.50  3.20  2.50  2.30  3.20  2.75  \n",
       "3  7.50  1.45  3.75  6.50  1.50  3.75  5.50  1.44  3.75  6.50  \n",
       "4  1.73  4.50  3.40  1.65  4.50  3.50  1.65  4.75  3.30  1.67  \n",
       "\n",
       "[5 rows x 115 columns]"
      ]
     },
     "execution_count": 4,
     "metadata": {},
     "output_type": "execute_result"
    }
   ],
   "source": [
    "df_matches = pd.read_sql_query('Select * From Match', con)\n",
    "df_matches.head()"
   ]
  },
  {
   "cell_type": "code",
   "execution_count": 5,
   "metadata": {},
   "outputs": [
    {
     "data": {
      "text/html": [
       "<div>\n",
       "<style scoped>\n",
       "    .dataframe tbody tr th:only-of-type {\n",
       "        vertical-align: middle;\n",
       "    }\n",
       "\n",
       "    .dataframe tbody tr th {\n",
       "        vertical-align: top;\n",
       "    }\n",
       "\n",
       "    .dataframe thead th {\n",
       "        text-align: right;\n",
       "    }\n",
       "</style>\n",
       "<table border=\"1\" class=\"dataframe\">\n",
       "  <thead>\n",
       "    <tr style=\"text-align: right;\">\n",
       "      <th></th>\n",
       "      <th>id</th>\n",
       "      <th>team_api_id</th>\n",
       "      <th>team_fifa_api_id</th>\n",
       "      <th>team_long_name</th>\n",
       "      <th>team_short_name</th>\n",
       "    </tr>\n",
       "  </thead>\n",
       "  <tbody>\n",
       "    <tr>\n",
       "      <th>0</th>\n",
       "      <td>1</td>\n",
       "      <td>9987</td>\n",
       "      <td>673.0</td>\n",
       "      <td>KRC Genk</td>\n",
       "      <td>GEN</td>\n",
       "    </tr>\n",
       "    <tr>\n",
       "      <th>1</th>\n",
       "      <td>2</td>\n",
       "      <td>9993</td>\n",
       "      <td>675.0</td>\n",
       "      <td>Beerschot AC</td>\n",
       "      <td>BAC</td>\n",
       "    </tr>\n",
       "    <tr>\n",
       "      <th>2</th>\n",
       "      <td>3</td>\n",
       "      <td>10000</td>\n",
       "      <td>15005.0</td>\n",
       "      <td>SV Zulte-Waregem</td>\n",
       "      <td>ZUL</td>\n",
       "    </tr>\n",
       "    <tr>\n",
       "      <th>3</th>\n",
       "      <td>4</td>\n",
       "      <td>9994</td>\n",
       "      <td>2007.0</td>\n",
       "      <td>Sporting Lokeren</td>\n",
       "      <td>LOK</td>\n",
       "    </tr>\n",
       "    <tr>\n",
       "      <th>4</th>\n",
       "      <td>5</td>\n",
       "      <td>9984</td>\n",
       "      <td>1750.0</td>\n",
       "      <td>KSV Cercle Brugge</td>\n",
       "      <td>CEB</td>\n",
       "    </tr>\n",
       "  </tbody>\n",
       "</table>\n",
       "</div>"
      ],
      "text/plain": [
       "   id  team_api_id  team_fifa_api_id     team_long_name team_short_name\n",
       "0   1         9987             673.0           KRC Genk             GEN\n",
       "1   2         9993             675.0       Beerschot AC             BAC\n",
       "2   3        10000           15005.0   SV Zulte-Waregem             ZUL\n",
       "3   4         9994            2007.0   Sporting Lokeren             LOK\n",
       "4   5         9984            1750.0  KSV Cercle Brugge             CEB"
      ]
     },
     "execution_count": 5,
     "metadata": {},
     "output_type": "execute_result"
    }
   ],
   "source": [
    "df_team = pd.read_sql_query('select * From Team', con)\n",
    "df_team.head()"
   ]
  },
  {
   "cell_type": "code",
   "execution_count": 6,
   "metadata": {},
   "outputs": [
    {
     "data": {
      "text/html": [
       "<div>\n",
       "<style scoped>\n",
       "    .dataframe tbody tr th:only-of-type {\n",
       "        vertical-align: middle;\n",
       "    }\n",
       "\n",
       "    .dataframe tbody tr th {\n",
       "        vertical-align: top;\n",
       "    }\n",
       "\n",
       "    .dataframe thead th {\n",
       "        text-align: right;\n",
       "    }\n",
       "</style>\n",
       "<table border=\"1\" class=\"dataframe\">\n",
       "  <thead>\n",
       "    <tr style=\"text-align: right;\">\n",
       "      <th></th>\n",
       "      <th>id</th>\n",
       "      <th>team_fifa_api_id</th>\n",
       "      <th>team_api_id</th>\n",
       "      <th>date</th>\n",
       "      <th>buildUpPlaySpeed</th>\n",
       "      <th>buildUpPlaySpeedClass</th>\n",
       "      <th>buildUpPlayDribbling</th>\n",
       "      <th>buildUpPlayDribblingClass</th>\n",
       "      <th>buildUpPlayPassing</th>\n",
       "      <th>buildUpPlayPassingClass</th>\n",
       "      <th>...</th>\n",
       "      <th>chanceCreationShooting</th>\n",
       "      <th>chanceCreationShootingClass</th>\n",
       "      <th>chanceCreationPositioningClass</th>\n",
       "      <th>defencePressure</th>\n",
       "      <th>defencePressureClass</th>\n",
       "      <th>defenceAggression</th>\n",
       "      <th>defenceAggressionClass</th>\n",
       "      <th>defenceTeamWidth</th>\n",
       "      <th>defenceTeamWidthClass</th>\n",
       "      <th>defenceDefenderLineClass</th>\n",
       "    </tr>\n",
       "  </thead>\n",
       "  <tbody>\n",
       "    <tr>\n",
       "      <th>0</th>\n",
       "      <td>1</td>\n",
       "      <td>434</td>\n",
       "      <td>9930</td>\n",
       "      <td>2010-02-22 00:00:00</td>\n",
       "      <td>60</td>\n",
       "      <td>Balanced</td>\n",
       "      <td>NaN</td>\n",
       "      <td>Little</td>\n",
       "      <td>50</td>\n",
       "      <td>Mixed</td>\n",
       "      <td>...</td>\n",
       "      <td>55</td>\n",
       "      <td>Normal</td>\n",
       "      <td>Organised</td>\n",
       "      <td>50</td>\n",
       "      <td>Medium</td>\n",
       "      <td>55</td>\n",
       "      <td>Press</td>\n",
       "      <td>45</td>\n",
       "      <td>Normal</td>\n",
       "      <td>Cover</td>\n",
       "    </tr>\n",
       "    <tr>\n",
       "      <th>1</th>\n",
       "      <td>2</td>\n",
       "      <td>434</td>\n",
       "      <td>9930</td>\n",
       "      <td>2014-09-19 00:00:00</td>\n",
       "      <td>52</td>\n",
       "      <td>Balanced</td>\n",
       "      <td>48.0</td>\n",
       "      <td>Normal</td>\n",
       "      <td>56</td>\n",
       "      <td>Mixed</td>\n",
       "      <td>...</td>\n",
       "      <td>64</td>\n",
       "      <td>Normal</td>\n",
       "      <td>Organised</td>\n",
       "      <td>47</td>\n",
       "      <td>Medium</td>\n",
       "      <td>44</td>\n",
       "      <td>Press</td>\n",
       "      <td>54</td>\n",
       "      <td>Normal</td>\n",
       "      <td>Cover</td>\n",
       "    </tr>\n",
       "    <tr>\n",
       "      <th>2</th>\n",
       "      <td>3</td>\n",
       "      <td>434</td>\n",
       "      <td>9930</td>\n",
       "      <td>2015-09-10 00:00:00</td>\n",
       "      <td>47</td>\n",
       "      <td>Balanced</td>\n",
       "      <td>41.0</td>\n",
       "      <td>Normal</td>\n",
       "      <td>54</td>\n",
       "      <td>Mixed</td>\n",
       "      <td>...</td>\n",
       "      <td>64</td>\n",
       "      <td>Normal</td>\n",
       "      <td>Organised</td>\n",
       "      <td>47</td>\n",
       "      <td>Medium</td>\n",
       "      <td>44</td>\n",
       "      <td>Press</td>\n",
       "      <td>54</td>\n",
       "      <td>Normal</td>\n",
       "      <td>Cover</td>\n",
       "    </tr>\n",
       "    <tr>\n",
       "      <th>3</th>\n",
       "      <td>4</td>\n",
       "      <td>77</td>\n",
       "      <td>8485</td>\n",
       "      <td>2010-02-22 00:00:00</td>\n",
       "      <td>70</td>\n",
       "      <td>Fast</td>\n",
       "      <td>NaN</td>\n",
       "      <td>Little</td>\n",
       "      <td>70</td>\n",
       "      <td>Long</td>\n",
       "      <td>...</td>\n",
       "      <td>70</td>\n",
       "      <td>Lots</td>\n",
       "      <td>Organised</td>\n",
       "      <td>60</td>\n",
       "      <td>Medium</td>\n",
       "      <td>70</td>\n",
       "      <td>Double</td>\n",
       "      <td>70</td>\n",
       "      <td>Wide</td>\n",
       "      <td>Cover</td>\n",
       "    </tr>\n",
       "    <tr>\n",
       "      <th>4</th>\n",
       "      <td>5</td>\n",
       "      <td>77</td>\n",
       "      <td>8485</td>\n",
       "      <td>2011-02-22 00:00:00</td>\n",
       "      <td>47</td>\n",
       "      <td>Balanced</td>\n",
       "      <td>NaN</td>\n",
       "      <td>Little</td>\n",
       "      <td>52</td>\n",
       "      <td>Mixed</td>\n",
       "      <td>...</td>\n",
       "      <td>52</td>\n",
       "      <td>Normal</td>\n",
       "      <td>Organised</td>\n",
       "      <td>47</td>\n",
       "      <td>Medium</td>\n",
       "      <td>47</td>\n",
       "      <td>Press</td>\n",
       "      <td>52</td>\n",
       "      <td>Normal</td>\n",
       "      <td>Cover</td>\n",
       "    </tr>\n",
       "  </tbody>\n",
       "</table>\n",
       "<p>5 rows × 25 columns</p>\n",
       "</div>"
      ],
      "text/plain": [
       "   id  team_fifa_api_id  team_api_id                 date  buildUpPlaySpeed  \\\n",
       "0   1               434         9930  2010-02-22 00:00:00                60   \n",
       "1   2               434         9930  2014-09-19 00:00:00                52   \n",
       "2   3               434         9930  2015-09-10 00:00:00                47   \n",
       "3   4                77         8485  2010-02-22 00:00:00                70   \n",
       "4   5                77         8485  2011-02-22 00:00:00                47   \n",
       "\n",
       "  buildUpPlaySpeedClass  buildUpPlayDribbling buildUpPlayDribblingClass  \\\n",
       "0              Balanced                   NaN                    Little   \n",
       "1              Balanced                  48.0                    Normal   \n",
       "2              Balanced                  41.0                    Normal   \n",
       "3                  Fast                   NaN                    Little   \n",
       "4              Balanced                   NaN                    Little   \n",
       "\n",
       "   buildUpPlayPassing buildUpPlayPassingClass           ...             \\\n",
       "0                  50                   Mixed           ...              \n",
       "1                  56                   Mixed           ...              \n",
       "2                  54                   Mixed           ...              \n",
       "3                  70                    Long           ...              \n",
       "4                  52                   Mixed           ...              \n",
       "\n",
       "  chanceCreationShooting  chanceCreationShootingClass  \\\n",
       "0                     55                       Normal   \n",
       "1                     64                       Normal   \n",
       "2                     64                       Normal   \n",
       "3                     70                         Lots   \n",
       "4                     52                       Normal   \n",
       "\n",
       "  chanceCreationPositioningClass  defencePressure defencePressureClass  \\\n",
       "0                      Organised               50               Medium   \n",
       "1                      Organised               47               Medium   \n",
       "2                      Organised               47               Medium   \n",
       "3                      Organised               60               Medium   \n",
       "4                      Organised               47               Medium   \n",
       "\n",
       "   defenceAggression defenceAggressionClass defenceTeamWidth  \\\n",
       "0                 55                  Press               45   \n",
       "1                 44                  Press               54   \n",
       "2                 44                  Press               54   \n",
       "3                 70                 Double               70   \n",
       "4                 47                  Press               52   \n",
       "\n",
       "   defenceTeamWidthClass defenceDefenderLineClass  \n",
       "0                 Normal                    Cover  \n",
       "1                 Normal                    Cover  \n",
       "2                 Normal                    Cover  \n",
       "3                   Wide                    Cover  \n",
       "4                 Normal                    Cover  \n",
       "\n",
       "[5 rows x 25 columns]"
      ]
     },
     "execution_count": 6,
     "metadata": {},
     "output_type": "execute_result"
    }
   ],
   "source": [
    "df_attribs = pd.read_sql_query('select * From Team_Attributes', con)\n",
    "df_attribs.head()"
   ]
  },
  {
   "cell_type": "markdown",
   "metadata": {},
   "source": [
    "Let's now dig deeper into the three dataframes"
   ]
  },
  {
   "cell_type": "code",
   "execution_count": 7,
   "metadata": {},
   "outputs": [
    {
     "data": {
      "text/plain": [
       "array(['id', 'country_id', 'league_id', 'season', 'stage', 'date',\n",
       "       'match_api_id', 'home_team_api_id', 'away_team_api_id',\n",
       "       'home_team_goal', 'away_team_goal', 'home_player_X1',\n",
       "       'home_player_X2', 'home_player_X3', 'home_player_X4',\n",
       "       'home_player_X5', 'home_player_X6', 'home_player_X7',\n",
       "       'home_player_X8', 'home_player_X9', 'home_player_X10',\n",
       "       'home_player_X11', 'away_player_X1', 'away_player_X2',\n",
       "       'away_player_X3', 'away_player_X4', 'away_player_X5',\n",
       "       'away_player_X6', 'away_player_X7', 'away_player_X8',\n",
       "       'away_player_X9', 'away_player_X10', 'away_player_X11',\n",
       "       'home_player_Y1', 'home_player_Y2', 'home_player_Y3',\n",
       "       'home_player_Y4', 'home_player_Y5', 'home_player_Y6',\n",
       "       'home_player_Y7', 'home_player_Y8', 'home_player_Y9',\n",
       "       'home_player_Y10', 'home_player_Y11', 'away_player_Y1',\n",
       "       'away_player_Y2', 'away_player_Y3', 'away_player_Y4',\n",
       "       'away_player_Y5', 'away_player_Y6', 'away_player_Y7',\n",
       "       'away_player_Y8', 'away_player_Y9', 'away_player_Y10',\n",
       "       'away_player_Y11', 'home_player_1', 'home_player_2',\n",
       "       'home_player_3', 'home_player_4', 'home_player_5', 'home_player_6',\n",
       "       'home_player_7', 'home_player_8', 'home_player_9', 'home_player_10',\n",
       "       'home_player_11', 'away_player_1', 'away_player_2', 'away_player_3',\n",
       "       'away_player_4', 'away_player_5', 'away_player_6', 'away_player_7',\n",
       "       'away_player_8', 'away_player_9', 'away_player_10',\n",
       "       'away_player_11', 'goal', 'shoton', 'shotoff', 'foulcommit', 'card',\n",
       "       'cross', 'corner', 'possession', 'B365H', 'B365D', 'B365A', 'BWH',\n",
       "       'BWD', 'BWA', 'IWH', 'IWD', 'IWA', 'LBH', 'LBD', 'LBA', 'PSH',\n",
       "       'PSD', 'PSA', 'WHH', 'WHD', 'WHA', 'SJH', 'SJD', 'SJA', 'VCH',\n",
       "       'VCD', 'VCA', 'GBH', 'GBD', 'GBA', 'BSH', 'BSD', 'BSA'], dtype=object)"
      ]
     },
     "execution_count": 7,
     "metadata": {},
     "output_type": "execute_result"
    }
   ],
   "source": [
    "df_matches.columns.values"
   ]
  },
  {
   "cell_type": "markdown",
   "metadata": {},
   "source": [
    "I have checked the [discussion](https://www.kaggle.com/hugomathien/soccer/discussion) page of this database to know the meaning of table names, some of them are related to player position on the play ground, events specific to each match, and betting odds. We will not use them in our analysis. So we will drop them."
   ]
  },
  {
   "cell_type": "code",
   "execution_count": 8,
   "metadata": {},
   "outputs": [],
   "source": [
    "df_matches.drop(['id', 'country_id', 'league_id', 'stage', 'date',\n",
    "        'match_api_id','home_player_X1',\n",
    "       'home_player_X2', 'home_player_X3', 'home_player_X4',\n",
    "       'home_player_X5', 'home_player_X6', 'home_player_X7',\n",
    "       'home_player_X8', 'home_player_X9', 'home_player_X10',\n",
    "       'home_player_X11', 'away_player_X1', 'away_player_X2',\n",
    "       'away_player_X3', 'away_player_X4', 'away_player_X5',\n",
    "       'away_player_X6', 'away_player_X7', 'away_player_X8',\n",
    "       'away_player_X9', 'away_player_X10', 'away_player_X11',\n",
    "       'home_player_Y1', 'home_player_Y2', 'home_player_Y3',\n",
    "       'home_player_Y4', 'home_player_Y5', 'home_player_Y6',\n",
    "       'home_player_Y7', 'home_player_Y8', 'home_player_Y9',\n",
    "       'home_player_Y10', 'home_player_Y11', 'away_player_Y1',\n",
    "       'away_player_Y2', 'away_player_Y3', 'away_player_Y4',\n",
    "       'away_player_Y5', 'away_player_Y6', 'away_player_Y7',\n",
    "       'away_player_Y8', 'away_player_Y9', 'away_player_Y10',\n",
    "       'away_player_Y11', 'home_player_1', 'home_player_2',\n",
    "       'home_player_3', 'home_player_4', 'home_player_5', 'home_player_6',\n",
    "       'home_player_7', 'home_player_8', 'home_player_9',\n",
    "       'home_player_10', 'home_player_11', 'away_player_1',\n",
    "       'away_player_2', 'away_player_3', 'away_player_4', 'away_player_5',\n",
    "       'away_player_6', 'away_player_7', 'away_player_8', 'away_player_9',\n",
    "       'away_player_10', 'away_player_11','goal', 'shoton', 'shotoff',\n",
    "       'foulcommit', 'card', 'cross', 'corner', 'possession','B365H',\n",
    "       'B365D', 'B365A', 'BWH', 'BWD', 'BWA', 'IWH', 'IWD', 'IWA', 'LBH',\n",
    "       'LBD', 'LBA', 'PSH', 'PSD', 'PSA', 'WHH', 'WHD', 'WHA', 'SJH',\n",
    "       'SJD', 'SJA', 'VCH', 'VCD', 'VCA', 'GBH', 'GBD', 'GBA', 'BSH',\n",
    "       'BSD', 'BSA'], axis=1, inplace=True)"
   ]
  },
  {
   "cell_type": "code",
   "execution_count": 9,
   "metadata": {},
   "outputs": [
    {
     "name": "stdout",
     "output_type": "stream",
     "text": [
      "<class 'pandas.core.frame.DataFrame'>\n",
      "RangeIndex: 25979 entries, 0 to 25978\n",
      "Data columns (total 5 columns):\n",
      "season              25979 non-null object\n",
      "home_team_api_id    25979 non-null int64\n",
      "away_team_api_id    25979 non-null int64\n",
      "home_team_goal      25979 non-null int64\n",
      "away_team_goal      25979 non-null int64\n",
      "dtypes: int64(4), object(1)\n",
      "memory usage: 1014.9+ KB\n"
     ]
    }
   ],
   "source": [
    "df_matches.info()"
   ]
  },
  {
   "cell_type": "markdown",
   "metadata": {},
   "source": [
    "No missing data, data types look proper."
   ]
  },
  {
   "cell_type": "markdown",
   "metadata": {},
   "source": [
    "Close the connection"
   ]
  },
  {
   "cell_type": "code",
   "execution_count": 10,
   "metadata": {},
   "outputs": [],
   "source": [
    "con.close()"
   ]
  },
  {
   "cell_type": "markdown",
   "metadata": {},
   "source": [
    "## Preparing data to measure improvement and study most victories attributes"
   ]
  },
  {
   "cell_type": "markdown",
   "metadata": {},
   "source": [
    "### Road map\n",
    "\n",
    "1. We will add a column with game result: home wins, away wins or draw.\n",
    "1. We will then split each match row into two rows, one for each team. The new rows will include:\n",
    "    - Team\n",
    "    - Season\n",
    "    - Match result for the team: win, lose or draw\n",
    "    - team goals\n",
    "    - oponent goals\n",
    "    - match type: home or away\n",
    "1. We will merge the above dataframe with the attributes dataframe based on Team and season, so now we will have selected attributes added to each row.\n",
    "1. We will replace team ids with team names from 'Team' table to give more meaning to team statistics.\n",
    "1. We will add a new column to team statistics called period, where we will divide rows into two periods. All rows with season up to 2011/2012 will be considered old, and whatever after will be considered recent.\n",
    "1. We will aggregate data grouped by period and team to sum wins, losses and draws, team goals and oponent goals.\n",
    "1. We will calculate a score, based on the number of wins, draws and losses, for each period to quantify the performance.\n",
    "1. We will then split the dataframe into two dataframes, one for each period.\n",
    "1. We will then merge the two dataframes by team to have old and new scores for the same team to calculate the difference and get the best improvment.\n",
    "1. Explore the data to answer questions."
   ]
  },
  {
   "cell_type": "markdown",
   "metadata": {},
   "source": [
    "### 1. Adding Game Result Column:"
   ]
  },
  {
   "cell_type": "markdown",
   "metadata": {},
   "source": [
    "First we need to add a new column to df_match with match result based on 'home_team_goal' and 'away_team_goal'"
   ]
  },
  {
   "cell_type": "code",
   "execution_count": 11,
   "metadata": {},
   "outputs": [],
   "source": [
    "def result(x):\n",
    "    if x['home_team_goal'] > x['away_team_goal']:\n",
    "        full_time_res = 'home wins'\n",
    "    elif x['home_team_goal'] == x['away_team_goal']:\n",
    "        full_time_res = 'draw'\n",
    "    else:\n",
    "        full_time_res = 'away wins'\n",
    "    return full_time_res"
   ]
  },
  {
   "cell_type": "code",
   "execution_count": 12,
   "metadata": {},
   "outputs": [],
   "source": [
    "df_matches['full_time_result'] = df_matches.apply(lambda x: result(x), axis=1)"
   ]
  },
  {
   "cell_type": "code",
   "execution_count": 13,
   "metadata": {},
   "outputs": [
    {
     "data": {
      "text/html": [
       "<div>\n",
       "<style scoped>\n",
       "    .dataframe tbody tr th:only-of-type {\n",
       "        vertical-align: middle;\n",
       "    }\n",
       "\n",
       "    .dataframe tbody tr th {\n",
       "        vertical-align: top;\n",
       "    }\n",
       "\n",
       "    .dataframe thead th {\n",
       "        text-align: right;\n",
       "    }\n",
       "</style>\n",
       "<table border=\"1\" class=\"dataframe\">\n",
       "  <thead>\n",
       "    <tr style=\"text-align: right;\">\n",
       "      <th></th>\n",
       "      <th>season</th>\n",
       "      <th>home_team_api_id</th>\n",
       "      <th>away_team_api_id</th>\n",
       "      <th>home_team_goal</th>\n",
       "      <th>away_team_goal</th>\n",
       "      <th>full_time_result</th>\n",
       "    </tr>\n",
       "  </thead>\n",
       "  <tbody>\n",
       "    <tr>\n",
       "      <th>0</th>\n",
       "      <td>2008/2009</td>\n",
       "      <td>9987</td>\n",
       "      <td>9993</td>\n",
       "      <td>1</td>\n",
       "      <td>1</td>\n",
       "      <td>draw</td>\n",
       "    </tr>\n",
       "    <tr>\n",
       "      <th>1</th>\n",
       "      <td>2008/2009</td>\n",
       "      <td>10000</td>\n",
       "      <td>9994</td>\n",
       "      <td>0</td>\n",
       "      <td>0</td>\n",
       "      <td>draw</td>\n",
       "    </tr>\n",
       "    <tr>\n",
       "      <th>2</th>\n",
       "      <td>2008/2009</td>\n",
       "      <td>9984</td>\n",
       "      <td>8635</td>\n",
       "      <td>0</td>\n",
       "      <td>3</td>\n",
       "      <td>away wins</td>\n",
       "    </tr>\n",
       "    <tr>\n",
       "      <th>3</th>\n",
       "      <td>2008/2009</td>\n",
       "      <td>9991</td>\n",
       "      <td>9998</td>\n",
       "      <td>5</td>\n",
       "      <td>0</td>\n",
       "      <td>home wins</td>\n",
       "    </tr>\n",
       "    <tr>\n",
       "      <th>4</th>\n",
       "      <td>2008/2009</td>\n",
       "      <td>7947</td>\n",
       "      <td>9985</td>\n",
       "      <td>1</td>\n",
       "      <td>3</td>\n",
       "      <td>away wins</td>\n",
       "    </tr>\n",
       "  </tbody>\n",
       "</table>\n",
       "</div>"
      ],
      "text/plain": [
       "      season  home_team_api_id  away_team_api_id  home_team_goal  \\\n",
       "0  2008/2009              9987              9993               1   \n",
       "1  2008/2009             10000              9994               0   \n",
       "2  2008/2009              9984              8635               0   \n",
       "3  2008/2009              9991              9998               5   \n",
       "4  2008/2009              7947              9985               1   \n",
       "\n",
       "   away_team_goal full_time_result  \n",
       "0               1             draw  \n",
       "1               0             draw  \n",
       "2               3        away wins  \n",
       "3               0        home wins  \n",
       "4               3        away wins  "
      ]
     },
     "execution_count": 13,
     "metadata": {},
     "output_type": "execute_result"
    }
   ],
   "source": [
    "df_matches.head()"
   ]
  },
  {
   "cell_type": "markdown",
   "metadata": {},
   "source": [
    "### 2. Split each match data into two rows with team and result for the team"
   ]
  },
  {
   "cell_type": "markdown",
   "metadata": {},
   "source": [
    "To split each match row into two different team rows, we will need to copy subsets of df_match, each filtered by game result. That process will be repeated six times to collect the three possible match results (home wins, away wins, and draw) for home team once, then for the away team.\n",
    "\n",
    "It is wise to use a function in this case."
   ]
  },
  {
   "cell_type": "code",
   "execution_count": 14,
   "metadata": {},
   "outputs": [],
   "source": [
    "def fetch_team(final_result, keep, game_result):\n",
    "    \n",
    "    \"\"\"\n",
    "    This function produces a dataframe with only one team name instead of 2, and the match\n",
    "    result for that team(win, lose, draw), it also rename column to have an ouput with\n",
    "    standard format.\n",
    "\n",
    "    Parameters:\n",
    "        final_result: when the value of 'full_time_result' matches this parameter, the\n",
    "        row is included in the returned dataframe. possible values are (home wins, away wins, draw)\n",
    "        keep: Usual one of two values;'home_team' or 'away team'. They represent two\n",
    "        column names. The column that has a name matches this paramter will be renamed to\n",
    "        'team' and the other column will be dropped.\n",
    "        game_result: is the result of the match for the team we are keeping (win, lose, draw)\n",
    "    \n",
    "    Returns:\n",
    "        dataframe with a column called 'team' contains team name, and a column called 'result'\n",
    "        contains the result for that team.\n",
    "    \"\"\"\n",
    "    #create a copy of the filtered df_matches\n",
    "    returned_df=df_matches[df_matches['full_time_result']==final_result].copy()\n",
    "    #set the names of columns to keep and to drop\n",
    "    if keep == 'home_team_api_id':\n",
    "        drop_column = 'away_team_api_id'\n",
    "        home_goals = 'team_goals'\n",
    "        away_goals = 'oponent_goals'\n",
    "    else:\n",
    "        drop_column='home_team_api_id'\n",
    "        home_goals = 'oponent_goals'\n",
    "        away_goals = 'team_goals'\n",
    "    #drop the other team column\n",
    "    returned_df.drop([drop_column],axis=1,inplace=True)\n",
    "    \n",
    "    #change the column names to have a standard format\n",
    "    #'team' will be the name of the column that has the team we are keeping\n",
    "    #'team_goals' will be the name of team goals.\n",
    "    #'oponent_goals' will be the name oponent goals.\n",
    "    new_names = {keep:'team', 'home_team_goal':home_goals, 'away_team_goal': away_goals}\n",
    "    returned_df.rename(columns=new_names,inplace=True)\n",
    "    #add columns with match result and game type\n",
    "    returned_df['game_result']=np.repeat(game_result, returned_df.shape[0])\n",
    "    return returned_df"
   ]
  },
  {
   "cell_type": "markdown",
   "metadata": {},
   "source": [
    "We can now use the above function to creat the six subdataframes. Their total row count should be double that the rows of *df_match*"
   ]
  },
  {
   "cell_type": "code",
   "execution_count": 15,
   "metadata": {},
   "outputs": [],
   "source": [
    "home_wins = fetch_team('home wins','home_team_api_id','win')\n",
    "home_loses = fetch_team('away wins','home_team_api_id','lose')\n",
    "away_wins = fetch_team('away wins','away_team_api_id','win')\n",
    "away_loses = fetch_team('home wins','away_team_api_id','lose')\n",
    "home_draw = fetch_team('draw','home_team_api_id','draw')\n",
    "away_draw = fetch_team('draw','away_team_api_id','draw')"
   ]
  },
  {
   "cell_type": "code",
   "execution_count": 16,
   "metadata": {},
   "outputs": [
    {
     "data": {
      "text/plain": [
       "True"
      ]
     },
     "execution_count": 16,
     "metadata": {},
     "output_type": "execute_result"
    }
   ],
   "source": [
    "(df_matches.shape[0]*2 == home_draw.shape[0] + home_loses.shape[0] \n",
    " + home_wins.shape[0] + away_draw.shape[0] + away_loses.shape[0] + away_wins.shape[0])"
   ]
  },
  {
   "cell_type": "code",
   "execution_count": 17,
   "metadata": {},
   "outputs": [
    {
     "name": "stdout",
     "output_type": "stream",
     "text": [
      "<class 'pandas.core.frame.DataFrame'>\n",
      "Int64Index: 7466 entries, 2 to 25975\n",
      "Data columns (total 6 columns):\n",
      "season              7466 non-null object\n",
      "team                7466 non-null int64\n",
      "team_goals          7466 non-null int64\n",
      "oponent_goals       7466 non-null int64\n",
      "full_time_result    7466 non-null object\n",
      "game_result         7466 non-null object\n",
      "dtypes: int64(3), object(3)\n",
      "memory usage: 408.3+ KB\n"
     ]
    }
   ],
   "source": [
    "home_loses.info()"
   ]
  },
  {
   "cell_type": "markdown",
   "metadata": {},
   "source": [
    "Now we will group each of the previous 6 dataframes by season and team, and aggregate with summing *team_goals* and *oponent_goals*, and counting *game_result*.\n",
    "\n",
    "Let's make a function that handles the repeating work."
   ]
  },
  {
   "cell_type": "code",
   "execution_count": 18,
   "metadata": {},
   "outputs": [],
   "source": [
    "def get_df_stats(df, game_type_name, game_result_name):\n",
    "    \"\"\"creats a new dataframe by grouping another dataframe by certian columns and\n",
    "    aggregating other columns\n",
    "    \n",
    "    Parameters:\n",
    "        df: input dataframe to be processed\n",
    "        game_result_name: the name that will be used for the count of game result column\n",
    "        in the returned data frame. It can have one of three values (win, loss, draw)\n",
    "        The column has to be renamed merging later.\n",
    "        game_type_name: the name of a new column that will hold the count of game\n",
    "        result, it can have one of two values (home, away). As we are feeding a dataframe\n",
    "        with just one game type and one game result, game type and game result counts will\n",
    "        be identical. But later each will have its own role.\n",
    "        \n",
    "    Returns:\n",
    "        New dataframe with count of game result and game type and sum of team goals and\n",
    "        openent goals per team per season. column names will reflect game type and game\n",
    "        result for future merge.\n",
    "    \n",
    "    \"\"\"\n",
    "    groupby_columns = ['season', 'team']\n",
    "    aggeragtion_parameters = {'game_result':'count',\n",
    "                              'team_goals':'sum', 'oponent_goals':'sum'}\n",
    "    new_names = {'game_result':game_result_name}\n",
    "    return_df = df.groupby(groupby_columns).agg(aggeragtion_parameters).reset_index()\n",
    "    return_df.rename(columns=new_names, inplace=True)\n",
    "    return_df[game_type_name]=return_df[game_result_name]\n",
    "    return return_df\n",
    "    "
   ]
  },
  {
   "cell_type": "code",
   "execution_count": 19,
   "metadata": {},
   "outputs": [],
   "source": [
    "h_wins_stats = get_df_stats(home_wins, 'home', 'win')\n",
    "h_loses_stats = get_df_stats(home_loses, 'home', 'loss')\n",
    "h_draws_stats = get_df_stats(home_draw, 'home', 'draw')\n",
    "a_wins_stats = get_df_stats(away_wins, 'away', 'win')\n",
    "a_loses_stats = get_df_stats(away_loses, 'away', 'loss')\n",
    "a_draws_stats = get_df_stats(away_draw, 'away', 'draw')"
   ]
  },
  {
   "cell_type": "code",
   "execution_count": 20,
   "metadata": {},
   "outputs": [
    {
     "name": "stdout",
     "output_type": "stream",
     "text": [
      "<class 'pandas.core.frame.DataFrame'>\n",
      "RangeIndex: 1459 entries, 0 to 1458\n",
      "Data columns (total 6 columns):\n",
      "season           1459 non-null object\n",
      "team             1459 non-null int64\n",
      "draw             1459 non-null int64\n",
      "team_goals       1459 non-null int64\n",
      "oponent_goals    1459 non-null int64\n",
      "home             1459 non-null int64\n",
      "dtypes: int64(5), object(1)\n",
      "memory usage: 68.5+ KB\n"
     ]
    }
   ],
   "source": [
    "h_draws_stats.info()"
   ]
  },
  {
   "cell_type": "code",
   "execution_count": 21,
   "metadata": {},
   "outputs": [
    {
     "name": "stdout",
     "output_type": "stream",
     "text": [
      "<class 'pandas.core.frame.DataFrame'>\n",
      "RangeIndex: 1462 entries, 0 to 1461\n",
      "Data columns (total 6 columns):\n",
      "season           1462 non-null object\n",
      "team             1462 non-null int64\n",
      "draw             1462 non-null int64\n",
      "team_goals       1462 non-null int64\n",
      "oponent_goals    1462 non-null int64\n",
      "away             1462 non-null int64\n",
      "dtypes: int64(5), object(1)\n",
      "memory usage: 68.6+ KB\n"
     ]
    }
   ],
   "source": [
    "a_draws_stats.info()"
   ]
  },
  {
   "cell_type": "markdown",
   "metadata": {},
   "source": [
    "It is clear that number of season/team pairs will be not identical, for example the two dataframes above show that there are more season/team pairs that have had draws home than those have draws away.\n",
    "\n",
    "This should introduce some null values when merging, but we can replace them with 0.\n",
    "\n",
    "Now let's merge data on three steps, starting with wins then loss then draws.\n",
    "\n",
    "While doing so we will fill nulls with 0, and we will sum similar columns."
   ]
  },
  {
   "cell_type": "code",
   "execution_count": 22,
   "metadata": {},
   "outputs": [
    {
     "name": "stdout",
     "output_type": "stream",
     "text": [
      "<class 'pandas.core.frame.DataFrame'>\n",
      "RangeIndex: 1481 entries, 0 to 1480\n",
      "Data columns (total 7 columns):\n",
      "season           1481 non-null object\n",
      "team             1481 non-null int64\n",
      "win              1481 non-null int64\n",
      "team_goals       1481 non-null int64\n",
      "oponent_goals    1481 non-null int64\n",
      "home             1481 non-null float64\n",
      "away             1481 non-null float64\n",
      "dtypes: float64(2), int64(4), object(1)\n",
      "memory usage: 81.1+ KB\n"
     ]
    }
   ],
   "source": [
    "wins_stats = pd.concat([h_wins_stats, a_wins_stats], sort=False).fillna(0).groupby(\n",
    "    ['season', 'team'])['win', 'team_goals', 'oponent_goals', 'home', 'away'].sum().reset_index()\n",
    "wins_stats.info()"
   ]
  },
  {
   "cell_type": "code",
   "execution_count": 23,
   "metadata": {},
   "outputs": [
    {
     "name": "stdout",
     "output_type": "stream",
     "text": [
      "<class 'pandas.core.frame.DataFrame'>\n",
      "RangeIndex: 1477 entries, 0 to 1476\n",
      "Data columns (total 7 columns):\n",
      "season           1477 non-null object\n",
      "team             1477 non-null int64\n",
      "loss             1477 non-null int64\n",
      "team_goals       1477 non-null int64\n",
      "oponent_goals    1477 non-null int64\n",
      "home             1477 non-null float64\n",
      "away             1477 non-null float64\n",
      "dtypes: float64(2), int64(4), object(1)\n",
      "memory usage: 80.9+ KB\n"
     ]
    }
   ],
   "source": [
    "losses_stats = pd.concat([h_loses_stats, a_loses_stats], sort=False).fillna(0).groupby(\n",
    "    ['season', 'team'])['loss', 'team_goals', 'oponent_goals', 'home', 'away'].sum().reset_index()\n",
    "losses_stats.info()"
   ]
  },
  {
   "cell_type": "code",
   "execution_count": 24,
   "metadata": {},
   "outputs": [
    {
     "name": "stdout",
     "output_type": "stream",
     "text": [
      "<class 'pandas.core.frame.DataFrame'>\n",
      "RangeIndex: 1479 entries, 0 to 1478\n",
      "Data columns (total 7 columns):\n",
      "season           1479 non-null object\n",
      "team             1479 non-null int64\n",
      "draw             1479 non-null int64\n",
      "team_goals       1479 non-null int64\n",
      "oponent_goals    1479 non-null int64\n",
      "home             1479 non-null float64\n",
      "away             1479 non-null float64\n",
      "dtypes: float64(2), int64(4), object(1)\n",
      "memory usage: 81.0+ KB\n"
     ]
    }
   ],
   "source": [
    "draws_stats = pd.concat([h_draws_stats, a_draws_stats], sort=False).fillna(0).groupby(\n",
    "    ['season', 'team'])['draw', 'team_goals', 'oponent_goals', 'home', 'away'].sum().reset_index()\n",
    "draws_stats.info()"
   ]
  },
  {
   "cell_type": "markdown",
   "metadata": {},
   "source": [
    "Now let's merge those last three dataframes"
   ]
  },
  {
   "cell_type": "code",
   "execution_count": 25,
   "metadata": {},
   "outputs": [
    {
     "name": "stdout",
     "output_type": "stream",
     "text": [
      "<class 'pandas.core.frame.DataFrame'>\n",
      "RangeIndex: 1481 entries, 0 to 1480\n",
      "Data columns (total 8 columns):\n",
      "season           1481 non-null object\n",
      "team             1481 non-null int64\n",
      "win              1481 non-null float64\n",
      "loss             1481 non-null float64\n",
      "team_goals       1481 non-null int64\n",
      "oponent_goals    1481 non-null int64\n",
      "home             1481 non-null float64\n",
      "away             1481 non-null float64\n",
      "dtypes: float64(4), int64(3), object(1)\n",
      "memory usage: 92.6+ KB\n"
     ]
    }
   ],
   "source": [
    "wins_losses_stats = pd.concat([wins_stats, losses_stats], sort=False).fillna(0).groupby(\n",
    "    ['season', 'team'])['win', 'loss', 'team_goals', 'oponent_goals', 'home', 'away'].sum().reset_index()\n",
    "wins_losses_stats.info()"
   ]
  },
  {
   "cell_type": "code",
   "execution_count": 26,
   "metadata": {},
   "outputs": [
    {
     "name": "stdout",
     "output_type": "stream",
     "text": [
      "<class 'pandas.core.frame.DataFrame'>\n",
      "RangeIndex: 1481 entries, 0 to 1480\n",
      "Data columns (total 9 columns):\n",
      "season           1481 non-null object\n",
      "team             1481 non-null int64\n",
      "win              1481 non-null float64\n",
      "loss             1481 non-null float64\n",
      "draw             1481 non-null float64\n",
      "team_goals       1481 non-null int64\n",
      "oponent_goals    1481 non-null int64\n",
      "home             1481 non-null float64\n",
      "away             1481 non-null float64\n",
      "dtypes: float64(5), int64(3), object(1)\n",
      "memory usage: 104.2+ KB\n"
     ]
    }
   ],
   "source": [
    "team_stats = pd.concat([wins_losses_stats, draws_stats], sort=False).fillna(0).groupby(\n",
    "    ['season', 'team'])['win', 'loss', 'draw', 'team_goals', 'oponent_goals', 'home', 'away'].sum().reset_index()\n",
    "team_stats.info()"
   ]
  },
  {
   "cell_type": "code",
   "execution_count": 27,
   "metadata": {},
   "outputs": [
    {
     "data": {
      "text/html": [
       "<div>\n",
       "<style scoped>\n",
       "    .dataframe tbody tr th:only-of-type {\n",
       "        vertical-align: middle;\n",
       "    }\n",
       "\n",
       "    .dataframe tbody tr th {\n",
       "        vertical-align: top;\n",
       "    }\n",
       "\n",
       "    .dataframe thead th {\n",
       "        text-align: right;\n",
       "    }\n",
       "</style>\n",
       "<table border=\"1\" class=\"dataframe\">\n",
       "  <thead>\n",
       "    <tr style=\"text-align: right;\">\n",
       "      <th></th>\n",
       "      <th>season</th>\n",
       "      <th>team</th>\n",
       "      <th>win</th>\n",
       "      <th>loss</th>\n",
       "      <th>draw</th>\n",
       "      <th>team_goals</th>\n",
       "      <th>oponent_goals</th>\n",
       "      <th>home</th>\n",
       "      <th>away</th>\n",
       "    </tr>\n",
       "  </thead>\n",
       "  <tbody>\n",
       "    <tr>\n",
       "      <th>0</th>\n",
       "      <td>2008/2009</td>\n",
       "      <td>1601</td>\n",
       "      <td>9.0</td>\n",
       "      <td>14.0</td>\n",
       "      <td>7.0</td>\n",
       "      <td>22</td>\n",
       "      <td>32</td>\n",
       "      <td>15.0</td>\n",
       "      <td>15.0</td>\n",
       "    </tr>\n",
       "    <tr>\n",
       "      <th>1</th>\n",
       "      <td>2008/2009</td>\n",
       "      <td>1957</td>\n",
       "      <td>9.0</td>\n",
       "      <td>14.0</td>\n",
       "      <td>7.0</td>\n",
       "      <td>28</td>\n",
       "      <td>34</td>\n",
       "      <td>15.0</td>\n",
       "      <td>15.0</td>\n",
       "    </tr>\n",
       "    <tr>\n",
       "      <th>2</th>\n",
       "      <td>2008/2009</td>\n",
       "      <td>2182</td>\n",
       "      <td>16.0</td>\n",
       "      <td>3.0</td>\n",
       "      <td>11.0</td>\n",
       "      <td>51</td>\n",
       "      <td>24</td>\n",
       "      <td>15.0</td>\n",
       "      <td>15.0</td>\n",
       "    </tr>\n",
       "    <tr>\n",
       "      <th>3</th>\n",
       "      <td>2008/2009</td>\n",
       "      <td>2183</td>\n",
       "      <td>15.0</td>\n",
       "      <td>6.0</td>\n",
       "      <td>9.0</td>\n",
       "      <td>40</td>\n",
       "      <td>23</td>\n",
       "      <td>15.0</td>\n",
       "      <td>15.0</td>\n",
       "    </tr>\n",
       "    <tr>\n",
       "      <th>4</th>\n",
       "      <td>2008/2009</td>\n",
       "      <td>2186</td>\n",
       "      <td>7.0</td>\n",
       "      <td>14.0</td>\n",
       "      <td>9.0</td>\n",
       "      <td>24</td>\n",
       "      <td>40</td>\n",
       "      <td>15.0</td>\n",
       "      <td>15.0</td>\n",
       "    </tr>\n",
       "  </tbody>\n",
       "</table>\n",
       "</div>"
      ],
      "text/plain": [
       "      season  team   win  loss  draw  team_goals  oponent_goals  home  away\n",
       "0  2008/2009  1601   9.0  14.0   7.0          22             32  15.0  15.0\n",
       "1  2008/2009  1957   9.0  14.0   7.0          28             34  15.0  15.0\n",
       "2  2008/2009  2182  16.0   3.0  11.0          51             24  15.0  15.0\n",
       "3  2008/2009  2183  15.0   6.0   9.0          40             23  15.0  15.0\n",
       "4  2008/2009  2186   7.0  14.0   9.0          24             40  15.0  15.0"
      ]
     },
     "execution_count": 27,
     "metadata": {},
     "output_type": "execute_result"
    }
   ],
   "source": [
    "team_stats.head()"
   ]
  },
  {
   "cell_type": "markdown",
   "metadata": {},
   "source": [
    "## 3. Merging with attributes"
   ]
  },
  {
   "cell_type": "markdown",
   "metadata": {},
   "source": [
    "Now let's have a look on df_attribs dataframe"
   ]
  },
  {
   "cell_type": "code",
   "execution_count": 28,
   "metadata": {},
   "outputs": [
    {
     "name": "stdout",
     "output_type": "stream",
     "text": [
      "<class 'pandas.core.frame.DataFrame'>\n",
      "RangeIndex: 1458 entries, 0 to 1457\n",
      "Data columns (total 25 columns):\n",
      "id                                1458 non-null int64\n",
      "team_fifa_api_id                  1458 non-null int64\n",
      "team_api_id                       1458 non-null int64\n",
      "date                              1458 non-null object\n",
      "buildUpPlaySpeed                  1458 non-null int64\n",
      "buildUpPlaySpeedClass             1458 non-null object\n",
      "buildUpPlayDribbling              489 non-null float64\n",
      "buildUpPlayDribblingClass         1458 non-null object\n",
      "buildUpPlayPassing                1458 non-null int64\n",
      "buildUpPlayPassingClass           1458 non-null object\n",
      "buildUpPlayPositioningClass       1458 non-null object\n",
      "chanceCreationPassing             1458 non-null int64\n",
      "chanceCreationPassingClass        1458 non-null object\n",
      "chanceCreationCrossing            1458 non-null int64\n",
      "chanceCreationCrossingClass       1458 non-null object\n",
      "chanceCreationShooting            1458 non-null int64\n",
      "chanceCreationShootingClass       1458 non-null object\n",
      "chanceCreationPositioningClass    1458 non-null object\n",
      "defencePressure                   1458 non-null int64\n",
      "defencePressureClass              1458 non-null object\n",
      "defenceAggression                 1458 non-null int64\n",
      "defenceAggressionClass            1458 non-null object\n",
      "defenceTeamWidth                  1458 non-null int64\n",
      "defenceTeamWidthClass             1458 non-null object\n",
      "defenceDefenderLineClass          1458 non-null object\n",
      "dtypes: float64(1), int64(11), object(13)\n",
      "memory usage: 284.8+ KB\n"
     ]
    }
   ],
   "source": [
    "df_attribs.info()"
   ]
  },
  {
   "cell_type": "markdown",
   "metadata": {},
   "source": [
    "For the sake of our analysis we will keep Class attributes, date and team_id"
   ]
  },
  {
   "cell_type": "code",
   "execution_count": 29,
   "metadata": {},
   "outputs": [
    {
     "name": "stdout",
     "output_type": "stream",
     "text": [
      "<class 'pandas.core.frame.DataFrame'>\n",
      "RangeIndex: 1458 entries, 0 to 1457\n",
      "Data columns (total 13 columns):\n",
      "id                        1458 non-null int64\n",
      "team_fifa_api_id          1458 non-null int64\n",
      "team_api_id               1458 non-null int64\n",
      "date                      1458 non-null object\n",
      "buildUpPlaySpeed          1458 non-null int64\n",
      "buildUpPlayDribbling      489 non-null float64\n",
      "buildUpPlayPassing        1458 non-null int64\n",
      "chanceCreationPassing     1458 non-null int64\n",
      "chanceCreationCrossing    1458 non-null int64\n",
      "chanceCreationShooting    1458 non-null int64\n",
      "defencePressure           1458 non-null int64\n",
      "defenceAggression         1458 non-null int64\n",
      "defenceTeamWidth          1458 non-null int64\n",
      "dtypes: float64(1), int64(11), object(1)\n",
      "memory usage: 148.2+ KB\n"
     ]
    }
   ],
   "source": [
    "for c in df_attribs.columns.values:\n",
    "    if 'Class' in c:\n",
    "        df_attribs.drop(c, axis=1, inplace=True)\n",
    "df_attribs.info()"
   ]
  },
  {
   "cell_type": "markdown",
   "metadata": {},
   "source": [
    "No null values.\n",
    "\n",
    "\n",
    "Now we need to convert the date column into a season, in order to do so we will need to convert date columns into date datatype.\n",
    "\n",
    "We can then extract year and month, and assign a season for each record.\n",
    "\n",
    "If the month was in the first half of the year, season will be year-1/year, and if not season will be year/year+1."
   ]
  },
  {
   "cell_type": "code",
   "execution_count": 30,
   "metadata": {},
   "outputs": [],
   "source": [
    "df_attribs['date']=pd.to_datetime(df_attribs['date'])"
   ]
  },
  {
   "cell_type": "code",
   "execution_count": 31,
   "metadata": {},
   "outputs": [
    {
     "name": "stdout",
     "output_type": "stream",
     "text": [
      "<class 'pandas.core.frame.DataFrame'>\n",
      "RangeIndex: 1458 entries, 0 to 1457\n",
      "Data columns (total 13 columns):\n",
      "id                        1458 non-null int64\n",
      "team_fifa_api_id          1458 non-null int64\n",
      "team_api_id               1458 non-null int64\n",
      "date                      1458 non-null datetime64[ns]\n",
      "buildUpPlaySpeed          1458 non-null int64\n",
      "buildUpPlayDribbling      489 non-null float64\n",
      "buildUpPlayPassing        1458 non-null int64\n",
      "chanceCreationPassing     1458 non-null int64\n",
      "chanceCreationCrossing    1458 non-null int64\n",
      "chanceCreationShooting    1458 non-null int64\n",
      "defencePressure           1458 non-null int64\n",
      "defenceAggression         1458 non-null int64\n",
      "defenceTeamWidth          1458 non-null int64\n",
      "dtypes: datetime64[ns](1), float64(1), int64(11)\n",
      "memory usage: 148.2 KB\n"
     ]
    }
   ],
   "source": [
    "df_attribs.info()"
   ]
  },
  {
   "cell_type": "code",
   "execution_count": 32,
   "metadata": {},
   "outputs": [],
   "source": [
    "df_attribs['year'] = df_attribs['date'].dt.year"
   ]
  },
  {
   "cell_type": "code",
   "execution_count": 33,
   "metadata": {},
   "outputs": [],
   "source": [
    "df_attribs['month'] = df_attribs['date'].dt.month"
   ]
  },
  {
   "cell_type": "code",
   "execution_count": 34,
   "metadata": {},
   "outputs": [
    {
     "name": "stdout",
     "output_type": "stream",
     "text": [
      "<class 'pandas.core.frame.DataFrame'>\n",
      "RangeIndex: 1458 entries, 0 to 1457\n",
      "Data columns (total 15 columns):\n",
      "id                        1458 non-null int64\n",
      "team_fifa_api_id          1458 non-null int64\n",
      "team_api_id               1458 non-null int64\n",
      "date                      1458 non-null datetime64[ns]\n",
      "buildUpPlaySpeed          1458 non-null int64\n",
      "buildUpPlayDribbling      489 non-null float64\n",
      "buildUpPlayPassing        1458 non-null int64\n",
      "chanceCreationPassing     1458 non-null int64\n",
      "chanceCreationCrossing    1458 non-null int64\n",
      "chanceCreationShooting    1458 non-null int64\n",
      "defencePressure           1458 non-null int64\n",
      "defenceAggression         1458 non-null int64\n",
      "defenceTeamWidth          1458 non-null int64\n",
      "year                      1458 non-null int64\n",
      "month                     1458 non-null int64\n",
      "dtypes: datetime64[ns](1), float64(1), int64(13)\n",
      "memory usage: 170.9 KB\n"
     ]
    }
   ],
   "source": [
    "df_attribs.info()"
   ]
  },
  {
   "cell_type": "markdown",
   "metadata": {},
   "source": [
    "Now to merge with match_stats dataframe, we will need to convert the month and date to season"
   ]
  },
  {
   "cell_type": "code",
   "execution_count": 35,
   "metadata": {},
   "outputs": [],
   "source": [
    "def set_season(x):\n",
    "    if x.month > 6:\n",
    "        season = str(x.year) + \"/\" + str(x.year+1)\n",
    "    else:\n",
    "        season = str(x.year-1) + \"/\" +str(x.year)\n",
    "    return season"
   ]
  },
  {
   "cell_type": "code",
   "execution_count": 36,
   "metadata": {},
   "outputs": [],
   "source": [
    "df_attribs['season'] = df_attribs.apply(lambda x: set_season(x), axis=1)"
   ]
  },
  {
   "cell_type": "code",
   "execution_count": 37,
   "metadata": {},
   "outputs": [
    {
     "data": {
      "text/plain": [
       "2015/2016    245\n",
       "2014/2015    244\n",
       "2010/2011    244\n",
       "2011/2012    242\n",
       "2013/2014    242\n",
       "2009/2010    241\n",
       "Name: season, dtype: int64"
      ]
     },
     "execution_count": 37,
     "metadata": {},
     "output_type": "execute_result"
    }
   ],
   "source": [
    "df_attribs['season'].value_counts()"
   ]
  },
  {
   "cell_type": "markdown",
   "metadata": {},
   "source": [
    "We can see there are missing seasons in this dataframe"
   ]
  },
  {
   "cell_type": "code",
   "execution_count": 38,
   "metadata": {},
   "outputs": [
    {
     "data": {
      "text/html": [
       "<div>\n",
       "<style scoped>\n",
       "    .dataframe tbody tr th:only-of-type {\n",
       "        vertical-align: middle;\n",
       "    }\n",
       "\n",
       "    .dataframe tbody tr th {\n",
       "        vertical-align: top;\n",
       "    }\n",
       "\n",
       "    .dataframe thead th {\n",
       "        text-align: right;\n",
       "    }\n",
       "</style>\n",
       "<table border=\"1\" class=\"dataframe\">\n",
       "  <thead>\n",
       "    <tr style=\"text-align: right;\">\n",
       "      <th></th>\n",
       "      <th>id</th>\n",
       "      <th>team_fifa_api_id</th>\n",
       "      <th>team_api_id</th>\n",
       "      <th>date</th>\n",
       "      <th>buildUpPlaySpeed</th>\n",
       "      <th>buildUpPlayDribbling</th>\n",
       "      <th>buildUpPlayPassing</th>\n",
       "      <th>chanceCreationPassing</th>\n",
       "      <th>chanceCreationCrossing</th>\n",
       "      <th>chanceCreationShooting</th>\n",
       "      <th>defencePressure</th>\n",
       "      <th>defenceAggression</th>\n",
       "      <th>defenceTeamWidth</th>\n",
       "      <th>year</th>\n",
       "      <th>month</th>\n",
       "      <th>season</th>\n",
       "    </tr>\n",
       "  </thead>\n",
       "  <tbody>\n",
       "    <tr>\n",
       "      <th>0</th>\n",
       "      <td>1</td>\n",
       "      <td>434</td>\n",
       "      <td>9930</td>\n",
       "      <td>2010-02-22</td>\n",
       "      <td>60</td>\n",
       "      <td>NaN</td>\n",
       "      <td>50</td>\n",
       "      <td>60</td>\n",
       "      <td>65</td>\n",
       "      <td>55</td>\n",
       "      <td>50</td>\n",
       "      <td>55</td>\n",
       "      <td>45</td>\n",
       "      <td>2010</td>\n",
       "      <td>2</td>\n",
       "      <td>2009/2010</td>\n",
       "    </tr>\n",
       "    <tr>\n",
       "      <th>1</th>\n",
       "      <td>2</td>\n",
       "      <td>434</td>\n",
       "      <td>9930</td>\n",
       "      <td>2014-09-19</td>\n",
       "      <td>52</td>\n",
       "      <td>48.0</td>\n",
       "      <td>56</td>\n",
       "      <td>54</td>\n",
       "      <td>63</td>\n",
       "      <td>64</td>\n",
       "      <td>47</td>\n",
       "      <td>44</td>\n",
       "      <td>54</td>\n",
       "      <td>2014</td>\n",
       "      <td>9</td>\n",
       "      <td>2014/2015</td>\n",
       "    </tr>\n",
       "    <tr>\n",
       "      <th>2</th>\n",
       "      <td>3</td>\n",
       "      <td>434</td>\n",
       "      <td>9930</td>\n",
       "      <td>2015-09-10</td>\n",
       "      <td>47</td>\n",
       "      <td>41.0</td>\n",
       "      <td>54</td>\n",
       "      <td>54</td>\n",
       "      <td>63</td>\n",
       "      <td>64</td>\n",
       "      <td>47</td>\n",
       "      <td>44</td>\n",
       "      <td>54</td>\n",
       "      <td>2015</td>\n",
       "      <td>9</td>\n",
       "      <td>2015/2016</td>\n",
       "    </tr>\n",
       "    <tr>\n",
       "      <th>3</th>\n",
       "      <td>4</td>\n",
       "      <td>77</td>\n",
       "      <td>8485</td>\n",
       "      <td>2010-02-22</td>\n",
       "      <td>70</td>\n",
       "      <td>NaN</td>\n",
       "      <td>70</td>\n",
       "      <td>70</td>\n",
       "      <td>70</td>\n",
       "      <td>70</td>\n",
       "      <td>60</td>\n",
       "      <td>70</td>\n",
       "      <td>70</td>\n",
       "      <td>2010</td>\n",
       "      <td>2</td>\n",
       "      <td>2009/2010</td>\n",
       "    </tr>\n",
       "    <tr>\n",
       "      <th>4</th>\n",
       "      <td>5</td>\n",
       "      <td>77</td>\n",
       "      <td>8485</td>\n",
       "      <td>2011-02-22</td>\n",
       "      <td>47</td>\n",
       "      <td>NaN</td>\n",
       "      <td>52</td>\n",
       "      <td>53</td>\n",
       "      <td>48</td>\n",
       "      <td>52</td>\n",
       "      <td>47</td>\n",
       "      <td>47</td>\n",
       "      <td>52</td>\n",
       "      <td>2011</td>\n",
       "      <td>2</td>\n",
       "      <td>2010/2011</td>\n",
       "    </tr>\n",
       "  </tbody>\n",
       "</table>\n",
       "</div>"
      ],
      "text/plain": [
       "   id  team_fifa_api_id  team_api_id       date  buildUpPlaySpeed  \\\n",
       "0   1               434         9930 2010-02-22                60   \n",
       "1   2               434         9930 2014-09-19                52   \n",
       "2   3               434         9930 2015-09-10                47   \n",
       "3   4                77         8485 2010-02-22                70   \n",
       "4   5                77         8485 2011-02-22                47   \n",
       "\n",
       "   buildUpPlayDribbling  buildUpPlayPassing  chanceCreationPassing  \\\n",
       "0                   NaN                  50                     60   \n",
       "1                  48.0                  56                     54   \n",
       "2                  41.0                  54                     54   \n",
       "3                   NaN                  70                     70   \n",
       "4                   NaN                  52                     53   \n",
       "\n",
       "   chanceCreationCrossing  chanceCreationShooting  defencePressure  \\\n",
       "0                      65                      55               50   \n",
       "1                      63                      64               47   \n",
       "2                      63                      64               47   \n",
       "3                      70                      70               60   \n",
       "4                      48                      52               47   \n",
       "\n",
       "   defenceAggression  defenceTeamWidth  year  month     season  \n",
       "0                 55                45  2010      2  2009/2010  \n",
       "1                 44                54  2014      9  2014/2015  \n",
       "2                 44                54  2015      9  2015/2016  \n",
       "3                 70                70  2010      2  2009/2010  \n",
       "4                 47                52  2011      2  2010/2011  "
      ]
     },
     "execution_count": 38,
     "metadata": {},
     "output_type": "execute_result"
    }
   ],
   "source": [
    "df_attribs.head()"
   ]
  },
  {
   "cell_type": "code",
   "execution_count": 39,
   "metadata": {},
   "outputs": [
    {
     "name": "stdout",
     "output_type": "stream",
     "text": [
      "<class 'pandas.core.frame.DataFrame'>\n",
      "RangeIndex: 1458 entries, 0 to 1457\n",
      "Data columns (total 16 columns):\n",
      "id                        1458 non-null int64\n",
      "team_fifa_api_id          1458 non-null int64\n",
      "team_api_id               1458 non-null int64\n",
      "date                      1458 non-null datetime64[ns]\n",
      "buildUpPlaySpeed          1458 non-null int64\n",
      "buildUpPlayDribbling      489 non-null float64\n",
      "buildUpPlayPassing        1458 non-null int64\n",
      "chanceCreationPassing     1458 non-null int64\n",
      "chanceCreationCrossing    1458 non-null int64\n",
      "chanceCreationShooting    1458 non-null int64\n",
      "defencePressure           1458 non-null int64\n",
      "defenceAggression         1458 non-null int64\n",
      "defenceTeamWidth          1458 non-null int64\n",
      "year                      1458 non-null int64\n",
      "month                     1458 non-null int64\n",
      "season                    1458 non-null object\n",
      "dtypes: datetime64[ns](1), float64(1), int64(13), object(1)\n",
      "memory usage: 182.3+ KB\n"
     ]
    }
   ],
   "source": [
    "df_attribs.info()"
   ]
  },
  {
   "cell_type": "markdown",
   "metadata": {},
   "source": [
    "We will do a left merge to df_attribs to have a dataframe with attributes and winnings stats, but let's drop the redundant columns frist."
   ]
  },
  {
   "cell_type": "code",
   "execution_count": 40,
   "metadata": {},
   "outputs": [],
   "source": [
    "df_attribs.drop(['id', 'team_fifa_api_id', 'date', 'year', 'month'], axis=1, inplace=True)"
   ]
  },
  {
   "cell_type": "code",
   "execution_count": 41,
   "metadata": {},
   "outputs": [],
   "source": [
    "df_attribs.rename(columns={'team_api_id':'team'}, inplace=True)"
   ]
  },
  {
   "cell_type": "code",
   "execution_count": 42,
   "metadata": {},
   "outputs": [],
   "source": [
    "attribs_stats = df_attribs.merge(team_stats, on=['season', 'team'], how='left')"
   ]
  },
  {
   "cell_type": "code",
   "execution_count": 43,
   "metadata": {},
   "outputs": [
    {
     "data": {
      "text/html": [
       "<div>\n",
       "<style scoped>\n",
       "    .dataframe tbody tr th:only-of-type {\n",
       "        vertical-align: middle;\n",
       "    }\n",
       "\n",
       "    .dataframe tbody tr th {\n",
       "        vertical-align: top;\n",
       "    }\n",
       "\n",
       "    .dataframe thead th {\n",
       "        text-align: right;\n",
       "    }\n",
       "</style>\n",
       "<table border=\"1\" class=\"dataframe\">\n",
       "  <thead>\n",
       "    <tr style=\"text-align: right;\">\n",
       "      <th></th>\n",
       "      <th>team</th>\n",
       "      <th>buildUpPlaySpeed</th>\n",
       "      <th>buildUpPlayDribbling</th>\n",
       "      <th>buildUpPlayPassing</th>\n",
       "      <th>chanceCreationPassing</th>\n",
       "      <th>chanceCreationCrossing</th>\n",
       "      <th>chanceCreationShooting</th>\n",
       "      <th>defencePressure</th>\n",
       "      <th>defenceAggression</th>\n",
       "      <th>defenceTeamWidth</th>\n",
       "      <th>season</th>\n",
       "      <th>win</th>\n",
       "      <th>loss</th>\n",
       "      <th>draw</th>\n",
       "      <th>team_goals</th>\n",
       "      <th>oponent_goals</th>\n",
       "      <th>home</th>\n",
       "      <th>away</th>\n",
       "    </tr>\n",
       "  </thead>\n",
       "  <tbody>\n",
       "    <tr>\n",
       "      <th>0</th>\n",
       "      <td>9930</td>\n",
       "      <td>60</td>\n",
       "      <td>NaN</td>\n",
       "      <td>50</td>\n",
       "      <td>60</td>\n",
       "      <td>65</td>\n",
       "      <td>55</td>\n",
       "      <td>50</td>\n",
       "      <td>55</td>\n",
       "      <td>45</td>\n",
       "      <td>2009/2010</td>\n",
       "      <td>6.0</td>\n",
       "      <td>25.0</td>\n",
       "      <td>5.0</td>\n",
       "      <td>32.0</td>\n",
       "      <td>88.0</td>\n",
       "      <td>18.0</td>\n",
       "      <td>18.0</td>\n",
       "    </tr>\n",
       "    <tr>\n",
       "      <th>1</th>\n",
       "      <td>9930</td>\n",
       "      <td>52</td>\n",
       "      <td>48.0</td>\n",
       "      <td>56</td>\n",
       "      <td>54</td>\n",
       "      <td>63</td>\n",
       "      <td>64</td>\n",
       "      <td>47</td>\n",
       "      <td>44</td>\n",
       "      <td>54</td>\n",
       "      <td>2014/2015</td>\n",
       "      <td>6.0</td>\n",
       "      <td>18.0</td>\n",
       "      <td>12.0</td>\n",
       "      <td>31.0</td>\n",
       "      <td>64.0</td>\n",
       "      <td>18.0</td>\n",
       "      <td>18.0</td>\n",
       "    </tr>\n",
       "    <tr>\n",
       "      <th>2</th>\n",
       "      <td>9930</td>\n",
       "      <td>47</td>\n",
       "      <td>41.0</td>\n",
       "      <td>54</td>\n",
       "      <td>54</td>\n",
       "      <td>63</td>\n",
       "      <td>64</td>\n",
       "      <td>47</td>\n",
       "      <td>44</td>\n",
       "      <td>54</td>\n",
       "      <td>2015/2016</td>\n",
       "      <td>NaN</td>\n",
       "      <td>NaN</td>\n",
       "      <td>NaN</td>\n",
       "      <td>NaN</td>\n",
       "      <td>NaN</td>\n",
       "      <td>NaN</td>\n",
       "      <td>NaN</td>\n",
       "    </tr>\n",
       "    <tr>\n",
       "      <th>3</th>\n",
       "      <td>8485</td>\n",
       "      <td>70</td>\n",
       "      <td>NaN</td>\n",
       "      <td>70</td>\n",
       "      <td>70</td>\n",
       "      <td>70</td>\n",
       "      <td>70</td>\n",
       "      <td>60</td>\n",
       "      <td>70</td>\n",
       "      <td>70</td>\n",
       "      <td>2009/2010</td>\n",
       "      <td>10.0</td>\n",
       "      <td>17.0</td>\n",
       "      <td>11.0</td>\n",
       "      <td>36.0</td>\n",
       "      <td>52.0</td>\n",
       "      <td>20.0</td>\n",
       "      <td>18.0</td>\n",
       "    </tr>\n",
       "    <tr>\n",
       "      <th>4</th>\n",
       "      <td>8485</td>\n",
       "      <td>47</td>\n",
       "      <td>NaN</td>\n",
       "      <td>52</td>\n",
       "      <td>53</td>\n",
       "      <td>48</td>\n",
       "      <td>52</td>\n",
       "      <td>47</td>\n",
       "      <td>47</td>\n",
       "      <td>52</td>\n",
       "      <td>2010/2011</td>\n",
       "      <td>11.0</td>\n",
       "      <td>22.0</td>\n",
       "      <td>5.0</td>\n",
       "      <td>39.0</td>\n",
       "      <td>59.0</td>\n",
       "      <td>19.0</td>\n",
       "      <td>19.0</td>\n",
       "    </tr>\n",
       "  </tbody>\n",
       "</table>\n",
       "</div>"
      ],
      "text/plain": [
       "   team  buildUpPlaySpeed  buildUpPlayDribbling  buildUpPlayPassing  \\\n",
       "0  9930                60                   NaN                  50   \n",
       "1  9930                52                  48.0                  56   \n",
       "2  9930                47                  41.0                  54   \n",
       "3  8485                70                   NaN                  70   \n",
       "4  8485                47                   NaN                  52   \n",
       "\n",
       "   chanceCreationPassing  chanceCreationCrossing  chanceCreationShooting  \\\n",
       "0                     60                      65                      55   \n",
       "1                     54                      63                      64   \n",
       "2                     54                      63                      64   \n",
       "3                     70                      70                      70   \n",
       "4                     53                      48                      52   \n",
       "\n",
       "   defencePressure  defenceAggression  defenceTeamWidth     season   win  \\\n",
       "0               50                 55                45  2009/2010   6.0   \n",
       "1               47                 44                54  2014/2015   6.0   \n",
       "2               47                 44                54  2015/2016   NaN   \n",
       "3               60                 70                70  2009/2010  10.0   \n",
       "4               47                 47                52  2010/2011  11.0   \n",
       "\n",
       "   loss  draw  team_goals  oponent_goals  home  away  \n",
       "0  25.0   5.0        32.0           88.0  18.0  18.0  \n",
       "1  18.0  12.0        31.0           64.0  18.0  18.0  \n",
       "2   NaN   NaN         NaN            NaN   NaN   NaN  \n",
       "3  17.0  11.0        36.0           52.0  20.0  18.0  \n",
       "4  22.0   5.0        39.0           59.0  19.0  19.0  "
      ]
     },
     "execution_count": 43,
     "metadata": {},
     "output_type": "execute_result"
    }
   ],
   "source": [
    "attribs_stats.head()"
   ]
  },
  {
   "cell_type": "code",
   "execution_count": 44,
   "metadata": {},
   "outputs": [
    {
     "name": "stdout",
     "output_type": "stream",
     "text": [
      "<class 'pandas.core.frame.DataFrame'>\n",
      "Int64Index: 1458 entries, 0 to 1457\n",
      "Data columns (total 18 columns):\n",
      "team                      1458 non-null int64\n",
      "buildUpPlaySpeed          1458 non-null int64\n",
      "buildUpPlayDribbling      489 non-null float64\n",
      "buildUpPlayPassing        1458 non-null int64\n",
      "chanceCreationPassing     1458 non-null int64\n",
      "chanceCreationCrossing    1458 non-null int64\n",
      "chanceCreationShooting    1458 non-null int64\n",
      "defencePressure           1458 non-null int64\n",
      "defenceAggression         1458 non-null int64\n",
      "defenceTeamWidth          1458 non-null int64\n",
      "season                    1458 non-null object\n",
      "win                       1068 non-null float64\n",
      "loss                      1068 non-null float64\n",
      "draw                      1068 non-null float64\n",
      "team_goals                1068 non-null float64\n",
      "oponent_goals             1068 non-null float64\n",
      "home                      1068 non-null float64\n",
      "away                      1068 non-null float64\n",
      "dtypes: float64(8), int64(9), object(1)\n",
      "memory usage: 216.4+ KB\n"
     ]
    }
   ],
   "source": [
    "attribs_stats.info()"
   ]
  },
  {
   "cell_type": "markdown",
   "metadata": {},
   "source": [
    "let's aslo drop the column buildUpPlayDribbling as it is missing a lot of data"
   ]
  },
  {
   "cell_type": "code",
   "execution_count": 45,
   "metadata": {},
   "outputs": [],
   "source": [
    "attribs_stats.drop('buildUpPlayDribbling', axis=1, inplace=True)"
   ]
  },
  {
   "cell_type": "markdown",
   "metadata": {},
   "source": [
    "We can see that there are null values, with a big percentage, so let's just drop the null values to avoid assumptions that may affect the conclusion"
   ]
  },
  {
   "cell_type": "code",
   "execution_count": 46,
   "metadata": {},
   "outputs": [],
   "source": [
    "attribs_stats.dropna(inplace=True)"
   ]
  },
  {
   "cell_type": "code",
   "execution_count": 47,
   "metadata": {},
   "outputs": [
    {
     "name": "stdout",
     "output_type": "stream",
     "text": [
      "<class 'pandas.core.frame.DataFrame'>\n",
      "Int64Index: 1068 entries, 0 to 1457\n",
      "Data columns (total 17 columns):\n",
      "team                      1068 non-null int64\n",
      "buildUpPlaySpeed          1068 non-null int64\n",
      "buildUpPlayPassing        1068 non-null int64\n",
      "chanceCreationPassing     1068 non-null int64\n",
      "chanceCreationCrossing    1068 non-null int64\n",
      "chanceCreationShooting    1068 non-null int64\n",
      "defencePressure           1068 non-null int64\n",
      "defenceAggression         1068 non-null int64\n",
      "defenceTeamWidth          1068 non-null int64\n",
      "season                    1068 non-null object\n",
      "win                       1068 non-null float64\n",
      "loss                      1068 non-null float64\n",
      "draw                      1068 non-null float64\n",
      "team_goals                1068 non-null float64\n",
      "oponent_goals             1068 non-null float64\n",
      "home                      1068 non-null float64\n",
      "away                      1068 non-null float64\n",
      "dtypes: float64(7), int64(9), object(1)\n",
      "memory usage: 150.2+ KB\n"
     ]
    }
   ],
   "source": [
    "attribs_stats.info()"
   ]
  },
  {
   "cell_type": "markdown",
   "metadata": {},
   "source": [
    "let's add a column that calculates wining percentage"
   ]
  },
  {
   "cell_type": "code",
   "execution_count": 48,
   "metadata": {},
   "outputs": [],
   "source": [
    "attribs_stats['win_perc']=attribs_stats.apply(lambda x: x.win / (x.win + x.draw + x.loss), axis=1)"
   ]
  },
  {
   "cell_type": "code",
   "execution_count": 49,
   "metadata": {},
   "outputs": [
    {
     "data": {
      "text/html": [
       "<div>\n",
       "<style scoped>\n",
       "    .dataframe tbody tr th:only-of-type {\n",
       "        vertical-align: middle;\n",
       "    }\n",
       "\n",
       "    .dataframe tbody tr th {\n",
       "        vertical-align: top;\n",
       "    }\n",
       "\n",
       "    .dataframe thead th {\n",
       "        text-align: right;\n",
       "    }\n",
       "</style>\n",
       "<table border=\"1\" class=\"dataframe\">\n",
       "  <thead>\n",
       "    <tr style=\"text-align: right;\">\n",
       "      <th></th>\n",
       "      <th>team</th>\n",
       "      <th>buildUpPlaySpeed</th>\n",
       "      <th>buildUpPlayPassing</th>\n",
       "      <th>chanceCreationPassing</th>\n",
       "      <th>chanceCreationCrossing</th>\n",
       "      <th>chanceCreationShooting</th>\n",
       "      <th>defencePressure</th>\n",
       "      <th>defenceAggression</th>\n",
       "      <th>defenceTeamWidth</th>\n",
       "      <th>win</th>\n",
       "      <th>loss</th>\n",
       "      <th>draw</th>\n",
       "      <th>team_goals</th>\n",
       "      <th>oponent_goals</th>\n",
       "      <th>home</th>\n",
       "      <th>away</th>\n",
       "      <th>win_perc</th>\n",
       "    </tr>\n",
       "  </thead>\n",
       "  <tbody>\n",
       "    <tr>\n",
       "      <th>count</th>\n",
       "      <td>1068.000000</td>\n",
       "      <td>1068.000000</td>\n",
       "      <td>1068.000000</td>\n",
       "      <td>1068.000000</td>\n",
       "      <td>1068.000000</td>\n",
       "      <td>1068.000000</td>\n",
       "      <td>1068.000000</td>\n",
       "      <td>1068.000000</td>\n",
       "      <td>1068.000000</td>\n",
       "      <td>1068.000000</td>\n",
       "      <td>1068.000000</td>\n",
       "      <td>1068.000000</td>\n",
       "      <td>1068.000000</td>\n",
       "      <td>1068.000000</td>\n",
       "      <td>1068.000000</td>\n",
       "      <td>1068.000000</td>\n",
       "      <td>1068.000000</td>\n",
       "    </tr>\n",
       "    <tr>\n",
       "      <th>mean</th>\n",
       "      <td>9765.209738</td>\n",
       "      <td>52.522472</td>\n",
       "      <td>47.895131</td>\n",
       "      <td>52.444757</td>\n",
       "      <td>53.808989</td>\n",
       "      <td>54.226592</td>\n",
       "      <td>46.521536</td>\n",
       "      <td>49.641386</td>\n",
       "      <td>52.286517</td>\n",
       "      <td>13.237828</td>\n",
       "      <td>13.023408</td>\n",
       "      <td>8.886704</td>\n",
       "      <td>47.909176</td>\n",
       "      <td>47.404494</td>\n",
       "      <td>17.573034</td>\n",
       "      <td>17.574906</td>\n",
       "      <td>0.376679</td>\n",
       "    </tr>\n",
       "    <tr>\n",
       "      <th>std</th>\n",
       "      <td>12501.630844</td>\n",
       "      <td>11.996503</td>\n",
       "      <td>11.092702</td>\n",
       "      <td>10.519930</td>\n",
       "      <td>11.215827</td>\n",
       "      <td>10.572159</td>\n",
       "      <td>10.437950</td>\n",
       "      <td>10.029836</td>\n",
       "      <td>9.647310</td>\n",
       "      <td>5.631581</td>\n",
       "      <td>5.175859</td>\n",
       "      <td>2.972743</td>\n",
       "      <td>16.120801</td>\n",
       "      <td>13.264071</td>\n",
       "      <td>1.795888</td>\n",
       "      <td>1.798939</td>\n",
       "      <td>0.155065</td>\n",
       "    </tr>\n",
       "    <tr>\n",
       "      <th>min</th>\n",
       "      <td>1601.000000</td>\n",
       "      <td>20.000000</td>\n",
       "      <td>20.000000</td>\n",
       "      <td>21.000000</td>\n",
       "      <td>20.000000</td>\n",
       "      <td>22.000000</td>\n",
       "      <td>23.000000</td>\n",
       "      <td>24.000000</td>\n",
       "      <td>30.000000</td>\n",
       "      <td>1.000000</td>\n",
       "      <td>0.000000</td>\n",
       "      <td>0.000000</td>\n",
       "      <td>5.000000</td>\n",
       "      <td>6.000000</td>\n",
       "      <td>3.000000</td>\n",
       "      <td>3.000000</td>\n",
       "      <td>0.078947</td>\n",
       "    </tr>\n",
       "    <tr>\n",
       "      <th>25%</th>\n",
       "      <td>8472.000000</td>\n",
       "      <td>45.000000</td>\n",
       "      <td>39.000000</td>\n",
       "      <td>46.000000</td>\n",
       "      <td>47.000000</td>\n",
       "      <td>48.750000</td>\n",
       "      <td>39.000000</td>\n",
       "      <td>44.000000</td>\n",
       "      <td>48.000000</td>\n",
       "      <td>9.000000</td>\n",
       "      <td>10.000000</td>\n",
       "      <td>7.000000</td>\n",
       "      <td>37.000000</td>\n",
       "      <td>38.750000</td>\n",
       "      <td>17.000000</td>\n",
       "      <td>17.000000</td>\n",
       "      <td>0.264706</td>\n",
       "    </tr>\n",
       "    <tr>\n",
       "      <th>50%</th>\n",
       "      <td>8721.000000</td>\n",
       "      <td>53.000000</td>\n",
       "      <td>49.000000</td>\n",
       "      <td>52.000000</td>\n",
       "      <td>53.000000</td>\n",
       "      <td>54.000000</td>\n",
       "      <td>46.000000</td>\n",
       "      <td>48.500000</td>\n",
       "      <td>52.000000</td>\n",
       "      <td>12.000000</td>\n",
       "      <td>13.000000</td>\n",
       "      <td>9.000000</td>\n",
       "      <td>45.000000</td>\n",
       "      <td>47.000000</td>\n",
       "      <td>18.000000</td>\n",
       "      <td>18.000000</td>\n",
       "      <td>0.342105</td>\n",
       "    </tr>\n",
       "    <tr>\n",
       "      <th>75%</th>\n",
       "      <td>9927.000000</td>\n",
       "      <td>63.000000</td>\n",
       "      <td>55.000000</td>\n",
       "      <td>60.000000</td>\n",
       "      <td>63.000000</td>\n",
       "      <td>63.000000</td>\n",
       "      <td>53.000000</td>\n",
       "      <td>57.000000</td>\n",
       "      <td>59.000000</td>\n",
       "      <td>16.000000</td>\n",
       "      <td>17.000000</td>\n",
       "      <td>11.000000</td>\n",
       "      <td>56.000000</td>\n",
       "      <td>56.000000</td>\n",
       "      <td>19.000000</td>\n",
       "      <td>19.000000</td>\n",
       "      <td>0.466667</td>\n",
       "    </tr>\n",
       "    <tr>\n",
       "      <th>max</th>\n",
       "      <td>274581.000000</td>\n",
       "      <td>80.000000</td>\n",
       "      <td>80.000000</td>\n",
       "      <td>80.000000</td>\n",
       "      <td>80.000000</td>\n",
       "      <td>80.000000</td>\n",
       "      <td>72.000000</td>\n",
       "      <td>72.000000</td>\n",
       "      <td>73.000000</td>\n",
       "      <td>33.000000</td>\n",
       "      <td>29.000000</td>\n",
       "      <td>19.000000</td>\n",
       "      <td>121.000000</td>\n",
       "      <td>98.000000</td>\n",
       "      <td>20.000000</td>\n",
       "      <td>20.000000</td>\n",
       "      <td>0.900000</td>\n",
       "    </tr>\n",
       "  </tbody>\n",
       "</table>\n",
       "</div>"
      ],
      "text/plain": [
       "                team  buildUpPlaySpeed  buildUpPlayPassing  \\\n",
       "count    1068.000000       1068.000000         1068.000000   \n",
       "mean     9765.209738         52.522472           47.895131   \n",
       "std     12501.630844         11.996503           11.092702   \n",
       "min      1601.000000         20.000000           20.000000   \n",
       "25%      8472.000000         45.000000           39.000000   \n",
       "50%      8721.000000         53.000000           49.000000   \n",
       "75%      9927.000000         63.000000           55.000000   \n",
       "max    274581.000000         80.000000           80.000000   \n",
       "\n",
       "       chanceCreationPassing  chanceCreationCrossing  chanceCreationShooting  \\\n",
       "count            1068.000000             1068.000000             1068.000000   \n",
       "mean               52.444757               53.808989               54.226592   \n",
       "std                10.519930               11.215827               10.572159   \n",
       "min                21.000000               20.000000               22.000000   \n",
       "25%                46.000000               47.000000               48.750000   \n",
       "50%                52.000000               53.000000               54.000000   \n",
       "75%                60.000000               63.000000               63.000000   \n",
       "max                80.000000               80.000000               80.000000   \n",
       "\n",
       "       defencePressure  defenceAggression  defenceTeamWidth          win  \\\n",
       "count      1068.000000        1068.000000       1068.000000  1068.000000   \n",
       "mean         46.521536          49.641386         52.286517    13.237828   \n",
       "std          10.437950          10.029836          9.647310     5.631581   \n",
       "min          23.000000          24.000000         30.000000     1.000000   \n",
       "25%          39.000000          44.000000         48.000000     9.000000   \n",
       "50%          46.000000          48.500000         52.000000    12.000000   \n",
       "75%          53.000000          57.000000         59.000000    16.000000   \n",
       "max          72.000000          72.000000         73.000000    33.000000   \n",
       "\n",
       "              loss         draw   team_goals  oponent_goals         home  \\\n",
       "count  1068.000000  1068.000000  1068.000000    1068.000000  1068.000000   \n",
       "mean     13.023408     8.886704    47.909176      47.404494    17.573034   \n",
       "std       5.175859     2.972743    16.120801      13.264071     1.795888   \n",
       "min       0.000000     0.000000     5.000000       6.000000     3.000000   \n",
       "25%      10.000000     7.000000    37.000000      38.750000    17.000000   \n",
       "50%      13.000000     9.000000    45.000000      47.000000    18.000000   \n",
       "75%      17.000000    11.000000    56.000000      56.000000    19.000000   \n",
       "max      29.000000    19.000000   121.000000      98.000000    20.000000   \n",
       "\n",
       "              away     win_perc  \n",
       "count  1068.000000  1068.000000  \n",
       "mean     17.574906     0.376679  \n",
       "std       1.798939     0.155065  \n",
       "min       3.000000     0.078947  \n",
       "25%      17.000000     0.264706  \n",
       "50%      18.000000     0.342105  \n",
       "75%      19.000000     0.466667  \n",
       "max      20.000000     0.900000  "
      ]
     },
     "execution_count": 49,
     "metadata": {},
     "output_type": "execute_result"
    }
   ],
   "source": [
    "attribs_stats.describe()"
   ]
  },
  {
   "cell_type": "markdown",
   "metadata": {},
   "source": [
    "We can use the table above to set categories for winning, max_wins, high_wins, low_wins, min_wins"
   ]
  },
  {
   "cell_type": "code",
   "execution_count": 50,
   "metadata": {},
   "outputs": [],
   "source": [
    "def cat_wins(x):\n",
    "    if x.win_perc < 0.264706:\n",
    "        win_cat = 'max_wins'\n",
    "    elif x.win_perc < 0.342105:\n",
    "        win_cat = 'med_high_wins'\n",
    "    elif x.win_perc < 0.466667:\n",
    "        win_cat = 'med_low_wins'\n",
    "    else:\n",
    "        win_cat = 'min_wins'\n",
    "    return win_cat"
   ]
  },
  {
   "cell_type": "code",
   "execution_count": 51,
   "metadata": {},
   "outputs": [],
   "source": [
    "attribs_stats['win_cats']=attribs_stats.apply(lambda x: cat_wins(x), axis=1)"
   ]
  },
  {
   "cell_type": "code",
   "execution_count": 52,
   "metadata": {},
   "outputs": [
    {
     "data": {
      "text/plain": [
       "med_low_wins     285\n",
       "max_wins         271\n",
       "min_wins         263\n",
       "med_high_wins    249\n",
       "Name: win_cats, dtype: int64"
      ]
     },
     "execution_count": 52,
     "metadata": {},
     "output_type": "execute_result"
    }
   ],
   "source": [
    "attribs_stats['win_cats'].value_counts()"
   ]
  },
  {
   "cell_type": "code",
   "execution_count": 53,
   "metadata": {},
   "outputs": [
    {
     "name": "stdout",
     "output_type": "stream",
     "text": [
      "<class 'pandas.core.frame.DataFrame'>\n",
      "RangeIndex: 299 entries, 0 to 298\n",
      "Data columns (total 5 columns):\n",
      "id                  299 non-null int64\n",
      "team_api_id         299 non-null int64\n",
      "team_fifa_api_id    288 non-null float64\n",
      "team_long_name      299 non-null object\n",
      "team_short_name     299 non-null object\n",
      "dtypes: float64(1), int64(2), object(2)\n",
      "memory usage: 11.8+ KB\n"
     ]
    }
   ],
   "source": [
    "df_team.info()"
   ]
  },
  {
   "cell_type": "code",
   "execution_count": 54,
   "metadata": {},
   "outputs": [
    {
     "name": "stdout",
     "output_type": "stream",
     "text": [
      "<class 'pandas.core.frame.DataFrame'>\n",
      "RangeIndex: 1481 entries, 0 to 1480\n",
      "Data columns (total 9 columns):\n",
      "season           1481 non-null object\n",
      "team             1481 non-null int64\n",
      "win              1481 non-null float64\n",
      "loss             1481 non-null float64\n",
      "draw             1481 non-null float64\n",
      "team_goals       1481 non-null int64\n",
      "oponent_goals    1481 non-null int64\n",
      "home             1481 non-null float64\n",
      "away             1481 non-null float64\n",
      "dtypes: float64(5), int64(3), object(1)\n",
      "memory usage: 104.2+ KB\n"
     ]
    }
   ],
   "source": [
    "team_stats.info()"
   ]
  },
  {
   "cell_type": "markdown",
   "metadata": {},
   "source": [
    "## 4. Use team names rather than team IDs in *match_statistics*"
   ]
  },
  {
   "cell_type": "code",
   "execution_count": 55,
   "metadata": {},
   "outputs": [],
   "source": [
    "team_stats=team_stats.merge(df_team[['team_api_id', 'team_long_name']],\n",
    "                            left_on='team', right_on='team_api_id', how='left')"
   ]
  },
  {
   "cell_type": "code",
   "execution_count": 56,
   "metadata": {},
   "outputs": [
    {
     "name": "stdout",
     "output_type": "stream",
     "text": [
      "<class 'pandas.core.frame.DataFrame'>\n",
      "Int64Index: 1481 entries, 0 to 1480\n",
      "Data columns (total 11 columns):\n",
      "season            1481 non-null object\n",
      "team              1481 non-null int64\n",
      "win               1481 non-null float64\n",
      "loss              1481 non-null float64\n",
      "draw              1481 non-null float64\n",
      "team_goals        1481 non-null int64\n",
      "oponent_goals     1481 non-null int64\n",
      "home              1481 non-null float64\n",
      "away              1481 non-null float64\n",
      "team_api_id       1481 non-null int64\n",
      "team_long_name    1481 non-null object\n",
      "dtypes: float64(5), int64(4), object(2)\n",
      "memory usage: 138.8+ KB\n"
     ]
    }
   ],
   "source": [
    "team_stats.info()"
   ]
  },
  {
   "cell_type": "markdown",
   "metadata": {},
   "source": [
    "We can now drop the ID columns and rename team_long_name to team"
   ]
  },
  {
   "cell_type": "code",
   "execution_count": 57,
   "metadata": {},
   "outputs": [],
   "source": [
    "team_stats.drop(['team', 'team_api_id'], axis=1, inplace=True)"
   ]
  },
  {
   "cell_type": "code",
   "execution_count": 58,
   "metadata": {},
   "outputs": [],
   "source": [
    "team_stats.rename(columns={'team_long_name':'team'}, inplace=True)"
   ]
  },
  {
   "cell_type": "code",
   "execution_count": 59,
   "metadata": {},
   "outputs": [
    {
     "data": {
      "text/html": [
       "<div>\n",
       "<style scoped>\n",
       "    .dataframe tbody tr th:only-of-type {\n",
       "        vertical-align: middle;\n",
       "    }\n",
       "\n",
       "    .dataframe tbody tr th {\n",
       "        vertical-align: top;\n",
       "    }\n",
       "\n",
       "    .dataframe thead th {\n",
       "        text-align: right;\n",
       "    }\n",
       "</style>\n",
       "<table border=\"1\" class=\"dataframe\">\n",
       "  <thead>\n",
       "    <tr style=\"text-align: right;\">\n",
       "      <th></th>\n",
       "      <th>season</th>\n",
       "      <th>win</th>\n",
       "      <th>loss</th>\n",
       "      <th>draw</th>\n",
       "      <th>team_goals</th>\n",
       "      <th>oponent_goals</th>\n",
       "      <th>home</th>\n",
       "      <th>away</th>\n",
       "      <th>team</th>\n",
       "    </tr>\n",
       "  </thead>\n",
       "  <tbody>\n",
       "    <tr>\n",
       "      <th>0</th>\n",
       "      <td>2008/2009</td>\n",
       "      <td>9.0</td>\n",
       "      <td>14.0</td>\n",
       "      <td>7.0</td>\n",
       "      <td>22</td>\n",
       "      <td>32</td>\n",
       "      <td>15.0</td>\n",
       "      <td>15.0</td>\n",
       "      <td>Ruch Chorzów</td>\n",
       "    </tr>\n",
       "    <tr>\n",
       "      <th>1</th>\n",
       "      <td>2008/2009</td>\n",
       "      <td>9.0</td>\n",
       "      <td>14.0</td>\n",
       "      <td>7.0</td>\n",
       "      <td>28</td>\n",
       "      <td>34</td>\n",
       "      <td>15.0</td>\n",
       "      <td>15.0</td>\n",
       "      <td>Jagiellonia Białystok</td>\n",
       "    </tr>\n",
       "    <tr>\n",
       "      <th>2</th>\n",
       "      <td>2008/2009</td>\n",
       "      <td>16.0</td>\n",
       "      <td>3.0</td>\n",
       "      <td>11.0</td>\n",
       "      <td>51</td>\n",
       "      <td>24</td>\n",
       "      <td>15.0</td>\n",
       "      <td>15.0</td>\n",
       "      <td>Lech Poznań</td>\n",
       "    </tr>\n",
       "    <tr>\n",
       "      <th>3</th>\n",
       "      <td>2008/2009</td>\n",
       "      <td>15.0</td>\n",
       "      <td>6.0</td>\n",
       "      <td>9.0</td>\n",
       "      <td>40</td>\n",
       "      <td>23</td>\n",
       "      <td>15.0</td>\n",
       "      <td>15.0</td>\n",
       "      <td>P. Warszawa</td>\n",
       "    </tr>\n",
       "    <tr>\n",
       "      <th>4</th>\n",
       "      <td>2008/2009</td>\n",
       "      <td>7.0</td>\n",
       "      <td>14.0</td>\n",
       "      <td>9.0</td>\n",
       "      <td>24</td>\n",
       "      <td>40</td>\n",
       "      <td>15.0</td>\n",
       "      <td>15.0</td>\n",
       "      <td>Cracovia</td>\n",
       "    </tr>\n",
       "  </tbody>\n",
       "</table>\n",
       "</div>"
      ],
      "text/plain": [
       "      season   win  loss  draw  team_goals  oponent_goals  home  away  \\\n",
       "0  2008/2009   9.0  14.0   7.0          22             32  15.0  15.0   \n",
       "1  2008/2009   9.0  14.0   7.0          28             34  15.0  15.0   \n",
       "2  2008/2009  16.0   3.0  11.0          51             24  15.0  15.0   \n",
       "3  2008/2009  15.0   6.0   9.0          40             23  15.0  15.0   \n",
       "4  2008/2009   7.0  14.0   9.0          24             40  15.0  15.0   \n",
       "\n",
       "                    team  \n",
       "0           Ruch Chorzów  \n",
       "1  Jagiellonia Białystok  \n",
       "2            Lech Poznań  \n",
       "3            P. Warszawa  \n",
       "4               Cracovia  "
      ]
     },
     "execution_count": 59,
     "metadata": {},
     "output_type": "execute_result"
    }
   ],
   "source": [
    "team_stats.head()"
   ]
  },
  {
   "cell_type": "code",
   "execution_count": 60,
   "metadata": {},
   "outputs": [
    {
     "name": "stdout",
     "output_type": "stream",
     "text": [
      "<class 'pandas.core.frame.DataFrame'>\n",
      "Int64Index: 1481 entries, 0 to 1480\n",
      "Data columns (total 9 columns):\n",
      "season           1481 non-null object\n",
      "win              1481 non-null float64\n",
      "loss             1481 non-null float64\n",
      "draw             1481 non-null float64\n",
      "team_goals       1481 non-null int64\n",
      "oponent_goals    1481 non-null int64\n",
      "home             1481 non-null float64\n",
      "away             1481 non-null float64\n",
      "team             1481 non-null object\n",
      "dtypes: float64(5), int64(2), object(2)\n",
      "memory usage: 115.7+ KB\n"
     ]
    }
   ],
   "source": [
    "team_stats.info()"
   ]
  },
  {
   "cell_type": "markdown",
   "metadata": {},
   "source": [
    "### 5. Add Period Column to divide data into two periods"
   ]
  },
  {
   "cell_type": "markdown",
   "metadata": {},
   "source": [
    "Let's add another column that set the period, we will have two periods to compare the improvement, seasons 2008/2009 to 2011/2012 will take the value of 1, and season from 2012/2013 to 2015/2016 will take the value of 2"
   ]
  },
  {
   "cell_type": "code",
   "execution_count": 61,
   "metadata": {},
   "outputs": [],
   "source": [
    "def set_period(x):\n",
    "    first_period = ['2008/2009', '2009/2010', '2010/2011', '2011/2012']\n",
    "    season_period = 2\n",
    "    if x['season'] in first_period:\n",
    "        season_period = 1\n",
    "    return season_period"
   ]
  },
  {
   "cell_type": "code",
   "execution_count": 62,
   "metadata": {},
   "outputs": [],
   "source": [
    "team_stats['period']=team_stats.apply(lambda x: set_period(x), axis=1)"
   ]
  },
  {
   "cell_type": "code",
   "execution_count": 63,
   "metadata": {},
   "outputs": [
    {
     "data": {
      "text/html": [
       "<div>\n",
       "<style scoped>\n",
       "    .dataframe tbody tr th:only-of-type {\n",
       "        vertical-align: middle;\n",
       "    }\n",
       "\n",
       "    .dataframe tbody tr th {\n",
       "        vertical-align: top;\n",
       "    }\n",
       "\n",
       "    .dataframe thead th {\n",
       "        text-align: right;\n",
       "    }\n",
       "</style>\n",
       "<table border=\"1\" class=\"dataframe\">\n",
       "  <thead>\n",
       "    <tr style=\"text-align: right;\">\n",
       "      <th></th>\n",
       "      <th>season</th>\n",
       "      <th>win</th>\n",
       "      <th>loss</th>\n",
       "      <th>draw</th>\n",
       "      <th>team_goals</th>\n",
       "      <th>oponent_goals</th>\n",
       "      <th>home</th>\n",
       "      <th>away</th>\n",
       "      <th>team</th>\n",
       "      <th>period</th>\n",
       "    </tr>\n",
       "  </thead>\n",
       "  <tbody>\n",
       "    <tr>\n",
       "      <th>1476</th>\n",
       "      <td>2015/2016</td>\n",
       "      <td>13.0</td>\n",
       "      <td>6.0</td>\n",
       "      <td>15.0</td>\n",
       "      <td>47</td>\n",
       "      <td>38</td>\n",
       "      <td>17.0</td>\n",
       "      <td>17.0</td>\n",
       "      <td>FC Arouca</td>\n",
       "      <td>2</td>\n",
       "    </tr>\n",
       "    <tr>\n",
       "      <th>1477</th>\n",
       "      <td>2015/2016</td>\n",
       "      <td>8.0</td>\n",
       "      <td>13.0</td>\n",
       "      <td>9.0</td>\n",
       "      <td>33</td>\n",
       "      <td>43</td>\n",
       "      <td>15.0</td>\n",
       "      <td>15.0</td>\n",
       "      <td>Termalica Bruk-Bet Nieciecza</td>\n",
       "      <td>2</td>\n",
       "    </tr>\n",
       "    <tr>\n",
       "      <th>1478</th>\n",
       "      <td>2015/2016</td>\n",
       "      <td>8.0</td>\n",
       "      <td>20.0</td>\n",
       "      <td>6.0</td>\n",
       "      <td>34</td>\n",
       "      <td>54</td>\n",
       "      <td>17.0</td>\n",
       "      <td>17.0</td>\n",
       "      <td>Tondela</td>\n",
       "      <td>2</td>\n",
       "    </tr>\n",
       "    <tr>\n",
       "      <th>1479</th>\n",
       "      <td>2015/2016</td>\n",
       "      <td>9.0</td>\n",
       "      <td>18.0</td>\n",
       "      <td>11.0</td>\n",
       "      <td>37</td>\n",
       "      <td>57</td>\n",
       "      <td>19.0</td>\n",
       "      <td>19.0</td>\n",
       "      <td>Carpi</td>\n",
       "      <td>2</td>\n",
       "    </tr>\n",
       "    <tr>\n",
       "      <th>1480</th>\n",
       "      <td>2015/2016</td>\n",
       "      <td>7.0</td>\n",
       "      <td>14.0</td>\n",
       "      <td>9.0</td>\n",
       "      <td>39</td>\n",
       "      <td>51</td>\n",
       "      <td>15.0</td>\n",
       "      <td>15.0</td>\n",
       "      <td>Royal Excel Mouscron</td>\n",
       "      <td>2</td>\n",
       "    </tr>\n",
       "  </tbody>\n",
       "</table>\n",
       "</div>"
      ],
      "text/plain": [
       "         season   win  loss  draw  team_goals  oponent_goals  home  away  \\\n",
       "1476  2015/2016  13.0   6.0  15.0          47             38  17.0  17.0   \n",
       "1477  2015/2016   8.0  13.0   9.0          33             43  15.0  15.0   \n",
       "1478  2015/2016   8.0  20.0   6.0          34             54  17.0  17.0   \n",
       "1479  2015/2016   9.0  18.0  11.0          37             57  19.0  19.0   \n",
       "1480  2015/2016   7.0  14.0   9.0          39             51  15.0  15.0   \n",
       "\n",
       "                              team  period  \n",
       "1476                     FC Arouca       2  \n",
       "1477  Termalica Bruk-Bet Nieciecza       2  \n",
       "1478                       Tondela       2  \n",
       "1479                         Carpi       2  \n",
       "1480          Royal Excel Mouscron       2  "
      ]
     },
     "execution_count": 63,
     "metadata": {},
     "output_type": "execute_result"
    }
   ],
   "source": [
    "team_stats.tail()"
   ]
  },
  {
   "cell_type": "code",
   "execution_count": 64,
   "metadata": {},
   "outputs": [
    {
     "name": "stdout",
     "output_type": "stream",
     "text": [
      "<class 'pandas.core.frame.DataFrame'>\n",
      "Int64Index: 1481 entries, 0 to 1480\n",
      "Data columns (total 10 columns):\n",
      "season           1481 non-null object\n",
      "win              1481 non-null float64\n",
      "loss             1481 non-null float64\n",
      "draw             1481 non-null float64\n",
      "team_goals       1481 non-null int64\n",
      "oponent_goals    1481 non-null int64\n",
      "home             1481 non-null float64\n",
      "away             1481 non-null float64\n",
      "team             1481 non-null object\n",
      "period           1481 non-null int64\n",
      "dtypes: float64(5), int64(3), object(2)\n",
      "memory usage: 127.3+ KB\n"
     ]
    }
   ],
   "source": [
    "team_stats.info()"
   ]
  },
  {
   "cell_type": "markdown",
   "metadata": {},
   "source": [
    "## 6. Grouping by Period"
   ]
  },
  {
   "cell_type": "markdown",
   "metadata": {},
   "source": [
    "Let's now group by 'period' and 'team', and summing and counting the columns as we do that."
   ]
  },
  {
   "cell_type": "code",
   "execution_count": 65,
   "metadata": {},
   "outputs": [],
   "source": [
    "groupby_columns = ['period', 'team']\n",
    "agg_params = {'win':'sum', 'loss':'sum', 'draw':'sum', \n",
    "                          'team_goals':'sum', 'home':'sum', 'away': 'sum',\n",
    "                          'team_goals':'sum', 'oponent_goals':'sum'}"
   ]
  },
  {
   "cell_type": "code",
   "execution_count": 66,
   "metadata": {},
   "outputs": [],
   "source": [
    "team_period_stats = team_stats.groupby(groupby_columns).agg(agg_params).reset_index()"
   ]
  },
  {
   "cell_type": "code",
   "execution_count": 67,
   "metadata": {},
   "outputs": [
    {
     "name": "stdout",
     "output_type": "stream",
     "text": [
      "<class 'pandas.core.frame.DataFrame'>\n",
      "RangeIndex: 489 entries, 0 to 488\n",
      "Data columns (total 9 columns):\n",
      "period           489 non-null int64\n",
      "team             489 non-null object\n",
      "win              489 non-null float64\n",
      "loss             489 non-null float64\n",
      "draw             489 non-null float64\n",
      "team_goals       489 non-null int64\n",
      "home             489 non-null float64\n",
      "away             489 non-null float64\n",
      "oponent_goals    489 non-null int64\n",
      "dtypes: float64(5), int64(3), object(1)\n",
      "memory usage: 34.5+ KB\n"
     ]
    }
   ],
   "source": [
    "team_period_stats.info()"
   ]
  },
  {
   "cell_type": "markdown",
   "metadata": {},
   "source": [
    "## 7. Calculating performance score"
   ]
  },
  {
   "cell_type": "markdown",
   "metadata": {},
   "source": [
    "We will use here the following formula to calculate performance score: (3 x wins + draws) / (Total matches)"
   ]
  },
  {
   "cell_type": "markdown",
   "metadata": {},
   "source": [
    "Let's add the score Column"
   ]
  },
  {
   "cell_type": "code",
   "execution_count": 68,
   "metadata": {},
   "outputs": [],
   "source": [
    "team_period_stats['score'] = team_period_stats.apply(lambda x: \n",
    "                                       (x.win*3 + x.draw)/(x.win + x.draw + x.loss), axis=1)"
   ]
  },
  {
   "cell_type": "code",
   "execution_count": 69,
   "metadata": {},
   "outputs": [
    {
     "data": {
      "text/html": [
       "<div>\n",
       "<style scoped>\n",
       "    .dataframe tbody tr th:only-of-type {\n",
       "        vertical-align: middle;\n",
       "    }\n",
       "\n",
       "    .dataframe tbody tr th {\n",
       "        vertical-align: top;\n",
       "    }\n",
       "\n",
       "    .dataframe thead th {\n",
       "        text-align: right;\n",
       "    }\n",
       "</style>\n",
       "<table border=\"1\" class=\"dataframe\">\n",
       "  <thead>\n",
       "    <tr style=\"text-align: right;\">\n",
       "      <th></th>\n",
       "      <th>period</th>\n",
       "      <th>team</th>\n",
       "      <th>win</th>\n",
       "      <th>loss</th>\n",
       "      <th>draw</th>\n",
       "      <th>team_goals</th>\n",
       "      <th>home</th>\n",
       "      <th>away</th>\n",
       "      <th>oponent_goals</th>\n",
       "      <th>score</th>\n",
       "    </tr>\n",
       "  </thead>\n",
       "  <tbody>\n",
       "    <tr>\n",
       "      <th>0</th>\n",
       "      <td>1</td>\n",
       "      <td>1. FC Kaiserslautern</td>\n",
       "      <td>17.0</td>\n",
       "      <td>33.0</td>\n",
       "      <td>18.0</td>\n",
       "      <td>72</td>\n",
       "      <td>34.0</td>\n",
       "      <td>34.0</td>\n",
       "      <td>105</td>\n",
       "      <td>1.014706</td>\n",
       "    </tr>\n",
       "    <tr>\n",
       "      <th>1</th>\n",
       "      <td>1</td>\n",
       "      <td>1. FC Köln</td>\n",
       "      <td>41.0</td>\n",
       "      <td>67.0</td>\n",
       "      <td>28.0</td>\n",
       "      <td>154</td>\n",
       "      <td>68.0</td>\n",
       "      <td>68.0</td>\n",
       "      <td>229</td>\n",
       "      <td>1.110294</td>\n",
       "    </tr>\n",
       "    <tr>\n",
       "      <th>2</th>\n",
       "      <td>1</td>\n",
       "      <td>1. FC Nürnberg</td>\n",
       "      <td>33.0</td>\n",
       "      <td>48.0</td>\n",
       "      <td>21.0</td>\n",
       "      <td>117</td>\n",
       "      <td>51.0</td>\n",
       "      <td>51.0</td>\n",
       "      <td>152</td>\n",
       "      <td>1.176471</td>\n",
       "    </tr>\n",
       "    <tr>\n",
       "      <th>3</th>\n",
       "      <td>1</td>\n",
       "      <td>1. FSV Mainz 05</td>\n",
       "      <td>39.0</td>\n",
       "      <td>36.0</td>\n",
       "      <td>27.0</td>\n",
       "      <td>135</td>\n",
       "      <td>51.0</td>\n",
       "      <td>51.0</td>\n",
       "      <td>132</td>\n",
       "      <td>1.411765</td>\n",
       "    </tr>\n",
       "    <tr>\n",
       "      <th>4</th>\n",
       "      <td>1</td>\n",
       "      <td>AC Ajaccio</td>\n",
       "      <td>9.0</td>\n",
       "      <td>15.0</td>\n",
       "      <td>14.0</td>\n",
       "      <td>40</td>\n",
       "      <td>19.0</td>\n",
       "      <td>19.0</td>\n",
       "      <td>61</td>\n",
       "      <td>1.078947</td>\n",
       "    </tr>\n",
       "  </tbody>\n",
       "</table>\n",
       "</div>"
      ],
      "text/plain": [
       "   period                  team   win  loss  draw  team_goals  home  away  \\\n",
       "0       1  1. FC Kaiserslautern  17.0  33.0  18.0          72  34.0  34.0   \n",
       "1       1            1. FC Köln  41.0  67.0  28.0         154  68.0  68.0   \n",
       "2       1        1. FC Nürnberg  33.0  48.0  21.0         117  51.0  51.0   \n",
       "3       1       1. FSV Mainz 05  39.0  36.0  27.0         135  51.0  51.0   \n",
       "4       1            AC Ajaccio   9.0  15.0  14.0          40  19.0  19.0   \n",
       "\n",
       "   oponent_goals     score  \n",
       "0            105  1.014706  \n",
       "1            229  1.110294  \n",
       "2            152  1.176471  \n",
       "3            132  1.411765  \n",
       "4             61  1.078947  "
      ]
     },
     "execution_count": 69,
     "metadata": {},
     "output_type": "execute_result"
    }
   ],
   "source": [
    "team_period_stats.head()"
   ]
  },
  {
   "cell_type": "markdown",
   "metadata": {},
   "source": [
    "## 8. Splitting team_period_stats dataframe into two dataframes based on period"
   ]
  },
  {
   "cell_type": "code",
   "execution_count": 70,
   "metadata": {},
   "outputs": [],
   "source": [
    "period_score_old = team_period_stats[team_period_stats['period']==1][['team', 'score']].copy()"
   ]
  },
  {
   "cell_type": "code",
   "execution_count": 71,
   "metadata": {},
   "outputs": [],
   "source": [
    "period_score_new = team_period_stats[team_period_stats['period']==2][['team', 'score']].copy()"
   ]
  },
  {
   "cell_type": "markdown",
   "metadata": {},
   "source": [
    "Let's rename the score columns to be able to differenciate upon merge"
   ]
  },
  {
   "cell_type": "code",
   "execution_count": 72,
   "metadata": {},
   "outputs": [],
   "source": [
    "period_score_new.rename(columns={'score':'new_score'}, inplace=True)"
   ]
  },
  {
   "cell_type": "code",
   "execution_count": 73,
   "metadata": {},
   "outputs": [],
   "source": [
    "period_score_old.rename(columns={'score':'old_score'}, inplace=True)"
   ]
  },
  {
   "cell_type": "code",
   "execution_count": 74,
   "metadata": {},
   "outputs": [
    {
     "name": "stdout",
     "output_type": "stream",
     "text": [
      "<class 'pandas.core.frame.DataFrame'>\n",
      "Int64Index: 245 entries, 244 to 488\n",
      "Data columns (total 2 columns):\n",
      "team         245 non-null object\n",
      "new_score    245 non-null float64\n",
      "dtypes: float64(1), object(1)\n",
      "memory usage: 5.7+ KB\n"
     ]
    }
   ],
   "source": [
    "period_score_new.info()"
   ]
  },
  {
   "cell_type": "code",
   "execution_count": 75,
   "metadata": {},
   "outputs": [
    {
     "name": "stdout",
     "output_type": "stream",
     "text": [
      "<class 'pandas.core.frame.DataFrame'>\n",
      "Int64Index: 244 entries, 0 to 243\n",
      "Data columns (total 2 columns):\n",
      "team         244 non-null object\n",
      "old_score    244 non-null float64\n",
      "dtypes: float64(1), object(1)\n",
      "memory usage: 5.7+ KB\n"
     ]
    }
   ],
   "source": [
    "period_score_old.info()"
   ]
  },
  {
   "cell_type": "markdown",
   "metadata": {},
   "source": [
    "## 9. Merging the two old and new scores"
   ]
  },
  {
   "cell_type": "code",
   "execution_count": 76,
   "metadata": {},
   "outputs": [],
   "source": [
    "compare_score = period_score_new.merge(period_score_old, on=['team'], how='outer')"
   ]
  },
  {
   "cell_type": "code",
   "execution_count": 77,
   "metadata": {},
   "outputs": [
    {
     "data": {
      "text/plain": [
       "(103, 3)"
      ]
     },
     "execution_count": 77,
     "metadata": {},
     "output_type": "execute_result"
    }
   ],
   "source": [
    "compare_score[compare_score.isnull().any(axis=1)].shape"
   ]
  },
  {
   "cell_type": "markdown",
   "metadata": {},
   "source": [
    "It is clear that we have 103 teams where not participating in both period, we will drop them as we are concerned only with improvements over the period."
   ]
  },
  {
   "cell_type": "code",
   "execution_count": 78,
   "metadata": {},
   "outputs": [],
   "source": [
    "compare_score.dropna(inplace=True)"
   ]
  },
  {
   "cell_type": "markdown",
   "metadata": {},
   "source": [
    "Let's add a column for difference in score"
   ]
  },
  {
   "cell_type": "code",
   "execution_count": 79,
   "metadata": {},
   "outputs": [],
   "source": [
    "compare_score['improvement'] = compare_score.apply(lambda x: x.new_score - x.old_score, axis=1)"
   ]
  },
  {
   "cell_type": "code",
   "execution_count": 80,
   "metadata": {},
   "outputs": [
    {
     "name": "stdout",
     "output_type": "stream",
     "text": [
      "<class 'pandas.core.frame.DataFrame'>\n",
      "Int64Index: 193 entries, 0 to 244\n",
      "Data columns (total 4 columns):\n",
      "team           193 non-null object\n",
      "new_score      193 non-null float64\n",
      "old_score      193 non-null float64\n",
      "improvement    193 non-null float64\n",
      "dtypes: float64(3), object(1)\n",
      "memory usage: 7.5+ KB\n"
     ]
    }
   ],
   "source": [
    "compare_score.info()"
   ]
  },
  {
   "cell_type": "code",
   "execution_count": 81,
   "metadata": {},
   "outputs": [],
   "source": [
    "compare_score.sort_values('improvement', ascending=False, inplace=True)"
   ]
  },
  {
   "cell_type": "code",
   "execution_count": 82,
   "metadata": {},
   "outputs": [
    {
     "data": {
      "text/html": [
       "<div>\n",
       "<style scoped>\n",
       "    .dataframe tbody tr th:only-of-type {\n",
       "        vertical-align: middle;\n",
       "    }\n",
       "\n",
       "    .dataframe tbody tr th {\n",
       "        vertical-align: top;\n",
       "    }\n",
       "\n",
       "    .dataframe thead th {\n",
       "        text-align: right;\n",
       "    }\n",
       "</style>\n",
       "<table border=\"1\" class=\"dataframe\">\n",
       "  <thead>\n",
       "    <tr style=\"text-align: right;\">\n",
       "      <th></th>\n",
       "      <th>team</th>\n",
       "      <th>new_score</th>\n",
       "      <th>old_score</th>\n",
       "      <th>improvement</th>\n",
       "    </tr>\n",
       "  </thead>\n",
       "  <tbody>\n",
       "    <tr>\n",
       "      <th>17</th>\n",
       "      <td>Atlético Madrid</td>\n",
       "      <td>2.184211</td>\n",
       "      <td>1.500000</td>\n",
       "      <td>0.684211</td>\n",
       "    </tr>\n",
       "    <tr>\n",
       "      <th>149</th>\n",
       "      <td>Paris Saint-Germain</td>\n",
       "      <td>2.309211</td>\n",
       "      <td>1.644737</td>\n",
       "      <td>0.664474</td>\n",
       "    </tr>\n",
       "    <tr>\n",
       "      <th>5</th>\n",
       "      <td>AS Monaco</td>\n",
       "      <td>1.894737</td>\n",
       "      <td>1.263158</td>\n",
       "      <td>0.631579</td>\n",
       "    </tr>\n",
       "    <tr>\n",
       "      <th>108</th>\n",
       "      <td>Juventus</td>\n",
       "      <td>2.414474</td>\n",
       "      <td>1.785235</td>\n",
       "      <td>0.629239</td>\n",
       "    </tr>\n",
       "    <tr>\n",
       "      <th>158</th>\n",
       "      <td>RAEC Mons</td>\n",
       "      <td>1.466667</td>\n",
       "      <td>0.859375</td>\n",
       "      <td>0.607292</td>\n",
       "    </tr>\n",
       "  </tbody>\n",
       "</table>\n",
       "</div>"
      ],
      "text/plain": [
       "                    team  new_score  old_score  improvement\n",
       "17       Atlético Madrid   2.184211   1.500000     0.684211\n",
       "149  Paris Saint-Germain   2.309211   1.644737     0.664474\n",
       "5              AS Monaco   1.894737   1.263158     0.631579\n",
       "108             Juventus   2.414474   1.785235     0.629239\n",
       "158            RAEC Mons   1.466667   0.859375     0.607292"
      ]
     },
     "execution_count": 82,
     "metadata": {},
     "output_type": "execute_result"
    }
   ],
   "source": [
    "compare_score.head()"
   ]
  },
  {
   "cell_type": "markdown",
   "metadata": {},
   "source": [
    "<a id='eda'></a>\n",
    "## Exploratory Data Analysis\n",
    "\n",
    ">Now let's explore the data we have"
   ]
  },
  {
   "cell_type": "code",
   "execution_count": 83,
   "metadata": {},
   "outputs": [
    {
     "name": "stdout",
     "output_type": "stream",
     "text": [
      "<class 'pandas.core.frame.DataFrame'>\n",
      "RangeIndex: 25979 entries, 0 to 25978\n",
      "Data columns (total 6 columns):\n",
      "season              25979 non-null object\n",
      "home_team_api_id    25979 non-null int64\n",
      "away_team_api_id    25979 non-null int64\n",
      "home_team_goal      25979 non-null int64\n",
      "away_team_goal      25979 non-null int64\n",
      "full_time_result    25979 non-null object\n",
      "dtypes: int64(4), object(2)\n",
      "memory usage: 1.2+ MB\n"
     ]
    }
   ],
   "source": [
    "df_matches.info()"
   ]
  },
  {
   "cell_type": "markdown",
   "metadata": {},
   "source": [
    "Let's see how playing home or away affect the winning"
   ]
  },
  {
   "cell_type": "code",
   "execution_count": 84,
   "metadata": {},
   "outputs": [
    {
     "data": {
      "text/plain": [
       "home wins    0.458717\n",
       "away wins    0.287386\n",
       "draw         0.253897\n",
       "Name: full_time_result, dtype: float64"
      ]
     },
     "execution_count": 84,
     "metadata": {},
     "output_type": "execute_result"
    }
   ],
   "source": [
    "df_matches.full_time_result.value_counts()/df_matches.shape[0]"
   ]
  },
  {
   "cell_type": "code",
   "execution_count": 85,
   "metadata": {},
   "outputs": [
    {
     "data": {
      "image/png": "[encoded data removed]",
      "text/plain": [
       "<matplotlib.figure.Figure at 0x7f5607d0c400>"
      ]
     },
     "metadata": {},
     "output_type": "display_data"
    }
   ],
   "source": [
    "df_matches.full_time_result.value_counts().plot(kind='pie',figsize=(8,8));\n",
    "plt.title('Match Results',fontsize=20);\n",
    "plt.legend();\n",
    "plt.ylabel('');"
   ]
  },
  {
   "cell_type": "markdown",
   "metadata": {},
   "source": [
    "This pie chart shows the share of each type of match results from total matches in our dataset.\n",
    "\n",
    ">It is clear that teams tend to win when play in home (about 46% of the time).\n",
    "\n",
    ">We can see also that about 25% of matches end in draw."
   ]
  },
  {
   "cell_type": "markdown",
   "metadata": {},
   "source": [
    "Let's have a look on the relationship between number of goals and playing place.\n",
    "\n",
    "We will collect means of goals when winning home, winning away, losing home and losing away.\n"
   ]
  },
  {
   "cell_type": "code",
   "execution_count": 86,
   "metadata": {},
   "outputs": [
    {
     "data": {
      "image/png": "[encoded data removed]",
      "text/plain": [
       "<matplotlib.figure.Figure at 0x7f5606a2d358>"
      ]
     },
     "metadata": {
      "needs_background": "light"
     },
     "output_type": "display_data"
    }
   ],
   "source": [
    "goal_columns=['team_goals', 'oponent_goals']\n",
    "plot_goals = pd.DataFrame({\n",
    "    'Goals when winning home':home_wins.mean()[goal_columns].tolist(),\n",
    "    'Goals when winning away':away_wins.mean()[goal_columns].tolist(),\n",
    "    'Goals when losing home':home_loses.mean()[goal_columns].tolist(),\n",
    "    'Goals When losing away':away_loses.mean()[goal_columns].tolist()},\n",
    "    index=['Team Goals', 'Oponent Goals']\n",
    ")\n",
    "ax=plot_goals.plot.bar(figsize=(8, 5));\n",
    "plt.xlabel('Goals of', fontsize=16);\n",
    "plt.ylabel('Avg Goals per Match', fontsize=16);\n",
    "plt.title('Avg Goals/Match Home and Away\\n in winning and losing', fontsize=20);\n",
    "ax.set_xticklabels(['Team', 'Oponent']);\n"
   ]
  },
  {
   "cell_type": "markdown",
   "metadata": {},
   "source": [
    "This bar chart compares average goals per match when playing home vs when playing away, for winning games and for losing games.\n",
    "\n",
    ">It looks like teams tend to socre slightly more when home. in both winning and losing cases.\n"
   ]
  },
  {
   "cell_type": "code",
   "execution_count": 87,
   "metadata": {},
   "outputs": [
    {
     "data": {
      "image/png": "[encoded data removed]",
      "text/plain": [
       "<matplotlib.figure.Figure at 0x7f560793a358>"
      ]
     },
     "metadata": {
      "needs_background": "light"
     },
     "output_type": "display_data"
    }
   ],
   "source": [
    "attribs_stats.hist(figsize=(12,12));"
   ]
  },
  {
   "cell_type": "markdown",
   "metadata": {},
   "source": [
    "What's interesting here that we can see the following following columns skewed to the right:\n",
    "\n",
    "- Win_perc: wihc represents the winning percentage (of the total matches played)\n",
    "- Team_goals\n",
    "\n",
    "On the other hand the following are skewed to the left:\n",
    "\n",
    "- chanceCreationCrossing: it could indicate that more teams tend to have higher chance creation crossing.\n",
    "\n",
    "Now let's have a look on the attribs_stats:"
   ]
  },
  {
   "cell_type": "code",
   "execution_count": 88,
   "metadata": {},
   "outputs": [
    {
     "data": {
      "image/png": "[encoded data removed]",
      "text/plain": [
       "<matplotlib.figure.Figure at 0x7f5606940d68>"
      ]
     },
     "metadata": {
      "needs_background": "light"
     },
     "output_type": "display_data"
    }
   ],
   "source": [
    "ax = attribs_stats.groupby('win_cats')['buildUpPlaySpeed'].mean().plot(kind='bar');\n",
    "plt.title('Avg Buildup Play Speed\\nfor Different winning Categories', fontsize=16)\n",
    "plt.ylabel('Mean', fontsize=14)\n",
    "plt.xlabel('Winning Categories', fontsize=14);\n",
    "ax.set_xticklabels(['Max Wins', 'Med High Wins', 'Med Low Wins', 'Min Wins']);"
   ]
  },
  {
   "cell_type": "markdown",
   "metadata": {},
   "source": [
    "This bar chart shows the Average Buildup Play Speed for the Different Winning Categories\n",
    ">No correlation can be seen"
   ]
  },
  {
   "cell_type": "code",
   "execution_count": 89,
   "metadata": {},
   "outputs": [
    {
     "data": {
      "image/png": "[encoded data removed]",
      "text/plain": [
       "<matplotlib.figure.Figure at 0x7f560793aa20>"
      ]
     },
     "metadata": {
      "needs_background": "light"
     },
     "output_type": "display_data"
    }
   ],
   "source": [
    "ax = attribs_stats.groupby('win_cats')['buildUpPlayPassing'].mean().plot(kind='bar');\n",
    "plt.title('Avg Buildup Play Passing\\nfor Different winning Categories', fontsize=16)\n",
    "plt.ylabel('Mean', fontsize=14)\n",
    "plt.xlabel('Winning Categories', fontsize=14);\n",
    "ax.set_xticklabels(['Max Wins', 'Med High Wins', 'Med Low Wins', 'Min Wins']);"
   ]
  },
  {
   "cell_type": "markdown",
   "metadata": {},
   "source": [
    "This bar chart shows the Average Buildup Play Passing for the Different Winning Categories\n",
    ">No correlation can be seen"
   ]
  },
  {
   "cell_type": "code",
   "execution_count": 90,
   "metadata": {},
   "outputs": [
    {
     "data": {
      "image/png": "[encoded data removed]",
      "text/plain": [
       "<matplotlib.figure.Figure at 0x7f56084a5ef0>"
      ]
     },
     "metadata": {
      "needs_background": "light"
     },
     "output_type": "display_data"
    }
   ],
   "source": [
    "ax = attribs_stats.groupby('win_cats')['chanceCreationPassing'].mean().plot(kind='bar');\n",
    "plt.title('Avg Chance Creation by Passing\\nfor Different winning Categories', fontsize=16)\n",
    "plt.ylabel('Mean', fontsize=14)\n",
    "plt.xlabel('Winning Categories', fontsize=14);\n",
    "ax.set_xticklabels(['Max Wins', 'Med High Wins', 'Med Low Wins', 'Min Wins']);"
   ]
  },
  {
   "cell_type": "markdown",
   "metadata": {},
   "source": [
    "This bar chart shows the Average Chance Creation by Passing for the Different Winning Categories\n",
    ">No correlation can be seen"
   ]
  },
  {
   "cell_type": "code",
   "execution_count": 91,
   "metadata": {},
   "outputs": [
    {
     "data": {
      "image/png": "[encoded data removed]",
      "text/plain": [
       "<matplotlib.figure.Figure at 0x7f56075a8a20>"
      ]
     },
     "metadata": {
      "needs_background": "light"
     },
     "output_type": "display_data"
    }
   ],
   "source": [
    "ax = attribs_stats.groupby('win_cats')['chanceCreationCrossing'].mean().plot(kind='bar');\n",
    "plt.title('Avg Chance Creation by Crossing\\nfor Different winning Categories', fontsize=16)\n",
    "plt.ylabel('Mean', fontsize=14)\n",
    "plt.xlabel('Winning Categories', fontsize=14);\n",
    "ax.set_xticklabels(['Max Wins', 'Med High Wins', 'Med Low Wins', 'Min Wins']);"
   ]
  },
  {
   "cell_type": "markdown",
   "metadata": {},
   "source": [
    "This bar chart shows the Average Chance Creation by Crossing for the Different Winning Categories\n",
    ">Clear inverse correlation!"
   ]
  },
  {
   "cell_type": "code",
   "execution_count": 92,
   "metadata": {},
   "outputs": [
    {
     "data": {
      "image/png": "[encoded data removed]",
      "text/plain": [
       "<matplotlib.figure.Figure at 0x7f5608492a58>"
      ]
     },
     "metadata": {
      "needs_background": "light"
     },
     "output_type": "display_data"
    }
   ],
   "source": [
    "ax = attribs_stats.groupby('win_cats')['chanceCreationShooting'].mean().plot(kind='bar');\n",
    "plt.title('Avg Chance Creation by Shooting\\nfor Different winning Categories', fontsize=16)\n",
    "plt.ylabel('Mean', fontsize=14)\n",
    "plt.xlabel('Winning Categories', fontsize=14);\n",
    "ax.set_xticklabels(['Max Wins', 'Med High Wins', 'Med Low Wins', 'Min Wins']);"
   ]
  },
  {
   "cell_type": "markdown",
   "metadata": {},
   "source": [
    "This bar chart shows the Average Chance Creation by Shooting for the Different Winning Categories\n",
    ">No correlation can be seen"
   ]
  },
  {
   "cell_type": "code",
   "execution_count": 93,
   "metadata": {},
   "outputs": [
    {
     "data": {
      "image/png": "[encoded data removed]",
      "text/plain": [
       "<matplotlib.figure.Figure at 0x7f5607649390>"
      ]
     },
     "metadata": {
      "needs_background": "light"
     },
     "output_type": "display_data"
    }
   ],
   "source": [
    "ax = attribs_stats.groupby('win_cats')['defencePressure'].mean().plot(kind='bar');\n",
    "plt.title('Avg Defence Pressure\\nfor Different winning Categories', fontsize=16)\n",
    "plt.ylabel('Mean', fontsize=14)\n",
    "plt.xlabel('Winning Categories', fontsize=14);\n",
    "ax.set_xticklabels(['Max Wins', 'Med High Wins', 'Med Low Wins', 'Min Wins']);"
   ]
  },
  {
   "cell_type": "markdown",
   "metadata": {},
   "source": [
    "This bar chart shows the Average Defence Pressure for the Different Winning Categories\n",
    ">Clear inverse correlation!"
   ]
  },
  {
   "cell_type": "code",
   "execution_count": 94,
   "metadata": {},
   "outputs": [
    {
     "data": {
      "image/png": "[encoded data removed]",
      "text/plain": [
       "<matplotlib.figure.Figure at 0x7f560802e828>"
      ]
     },
     "metadata": {
      "needs_background": "light"
     },
     "output_type": "display_data"
    }
   ],
   "source": [
    "ax = attribs_stats.groupby('win_cats')['defenceAggression'].mean().plot(kind='bar');\n",
    "plt.title('Avg Defence Aggression\\nfor Different winning Categories', fontsize=16)\n",
    "plt.ylabel('Mean', fontsize=14)\n",
    "plt.xlabel('Winning Categories', fontsize=14);\n",
    "ax.set_xticklabels(['Max Wins', 'Med High Wins', 'Med Low Wins', 'Min Wins']);"
   ]
  },
  {
   "cell_type": "markdown",
   "metadata": {},
   "source": [
    "This bar chart shows the Average Defence Aggression for the Different Winning Categories\n",
    ">Weak inverse correlation can be seen"
   ]
  },
  {
   "cell_type": "code",
   "execution_count": 95,
   "metadata": {},
   "outputs": [
    {
     "data": {
      "image/png": "[encoded data removed]",
      "text/plain": [
       "<matplotlib.figure.Figure at 0x7f5607263ef0>"
      ]
     },
     "metadata": {
      "needs_background": "light"
     },
     "output_type": "display_data"
    }
   ],
   "source": [
    "ax = attribs_stats.groupby('win_cats')['defenceTeamWidth'].mean().plot(kind='bar');\n",
    "plt.title('Avg Defence Team Width\\nfor Different winning Categories', fontsize=16)\n",
    "plt.ylabel('Mean', fontsize=14)\n",
    "plt.xlabel('Winning Categories', fontsize=14);\n",
    "ax.set_xticklabels(['Max Wins', 'Med High Wins', 'Med Low Wins', 'Min Wins']);"
   ]
  },
  {
   "cell_type": "markdown",
   "metadata": {},
   "source": [
    "This bar chart shows the Average Defence Team Width for the Different Winning Categories\n",
    ">Inverse correlation can be seen"
   ]
  },
  {
   "cell_type": "code",
   "execution_count": 96,
   "metadata": {},
   "outputs": [
    {
     "data": {
      "text/html": [
       "<div>\n",
       "<style scoped>\n",
       "    .dataframe tbody tr th:only-of-type {\n",
       "        vertical-align: middle;\n",
       "    }\n",
       "\n",
       "    .dataframe tbody tr th {\n",
       "        vertical-align: top;\n",
       "    }\n",
       "\n",
       "    .dataframe thead th {\n",
       "        text-align: right;\n",
       "    }\n",
       "</style>\n",
       "<table border=\"1\" class=\"dataframe\">\n",
       "  <thead>\n",
       "    <tr style=\"text-align: right;\">\n",
       "      <th></th>\n",
       "      <th>team</th>\n",
       "      <th>buildUpPlaySpeed</th>\n",
       "      <th>buildUpPlayPassing</th>\n",
       "      <th>chanceCreationPassing</th>\n",
       "      <th>chanceCreationCrossing</th>\n",
       "      <th>chanceCreationShooting</th>\n",
       "      <th>defencePressure</th>\n",
       "      <th>defenceAggression</th>\n",
       "      <th>defenceTeamWidth</th>\n",
       "      <th>win</th>\n",
       "      <th>loss</th>\n",
       "      <th>draw</th>\n",
       "      <th>team_goals</th>\n",
       "      <th>oponent_goals</th>\n",
       "      <th>home</th>\n",
       "      <th>away</th>\n",
       "      <th>win_perc</th>\n",
       "    </tr>\n",
       "  </thead>\n",
       "  <tbody>\n",
       "    <tr>\n",
       "      <th>count</th>\n",
       "      <td>1068.000000</td>\n",
       "      <td>1068.000000</td>\n",
       "      <td>1068.000000</td>\n",
       "      <td>1068.000000</td>\n",
       "      <td>1068.000000</td>\n",
       "      <td>1068.000000</td>\n",
       "      <td>1068.000000</td>\n",
       "      <td>1068.000000</td>\n",
       "      <td>1068.000000</td>\n",
       "      <td>1068.000000</td>\n",
       "      <td>1068.000000</td>\n",
       "      <td>1068.000000</td>\n",
       "      <td>1068.000000</td>\n",
       "      <td>1068.000000</td>\n",
       "      <td>1068.000000</td>\n",
       "      <td>1068.000000</td>\n",
       "      <td>1068.000000</td>\n",
       "    </tr>\n",
       "    <tr>\n",
       "      <th>mean</th>\n",
       "      <td>9765.209738</td>\n",
       "      <td>52.522472</td>\n",
       "      <td>47.895131</td>\n",
       "      <td>52.444757</td>\n",
       "      <td>53.808989</td>\n",
       "      <td>54.226592</td>\n",
       "      <td>46.521536</td>\n",
       "      <td>49.641386</td>\n",
       "      <td>52.286517</td>\n",
       "      <td>13.237828</td>\n",
       "      <td>13.023408</td>\n",
       "      <td>8.886704</td>\n",
       "      <td>47.909176</td>\n",
       "      <td>47.404494</td>\n",
       "      <td>17.573034</td>\n",
       "      <td>17.574906</td>\n",
       "      <td>0.376679</td>\n",
       "    </tr>\n",
       "    <tr>\n",
       "      <th>std</th>\n",
       "      <td>12501.630844</td>\n",
       "      <td>11.996503</td>\n",
       "      <td>11.092702</td>\n",
       "      <td>10.519930</td>\n",
       "      <td>11.215827</td>\n",
       "      <td>10.572159</td>\n",
       "      <td>10.437950</td>\n",
       "      <td>10.029836</td>\n",
       "      <td>9.647310</td>\n",
       "      <td>5.631581</td>\n",
       "      <td>5.175859</td>\n",
       "      <td>2.972743</td>\n",
       "      <td>16.120801</td>\n",
       "      <td>13.264071</td>\n",
       "      <td>1.795888</td>\n",
       "      <td>1.798939</td>\n",
       "      <td>0.155065</td>\n",
       "    </tr>\n",
       "    <tr>\n",
       "      <th>min</th>\n",
       "      <td>1601.000000</td>\n",
       "      <td>20.000000</td>\n",
       "      <td>20.000000</td>\n",
       "      <td>21.000000</td>\n",
       "      <td>20.000000</td>\n",
       "      <td>22.000000</td>\n",
       "      <td>23.000000</td>\n",
       "      <td>24.000000</td>\n",
       "      <td>30.000000</td>\n",
       "      <td>1.000000</td>\n",
       "      <td>0.000000</td>\n",
       "      <td>0.000000</td>\n",
       "      <td>5.000000</td>\n",
       "      <td>6.000000</td>\n",
       "      <td>3.000000</td>\n",
       "      <td>3.000000</td>\n",
       "      <td>0.078947</td>\n",
       "    </tr>\n",
       "    <tr>\n",
       "      <th>25%</th>\n",
       "      <td>8472.000000</td>\n",
       "      <td>45.000000</td>\n",
       "      <td>39.000000</td>\n",
       "      <td>46.000000</td>\n",
       "      <td>47.000000</td>\n",
       "      <td>48.750000</td>\n",
       "      <td>39.000000</td>\n",
       "      <td>44.000000</td>\n",
       "      <td>48.000000</td>\n",
       "      <td>9.000000</td>\n",
       "      <td>10.000000</td>\n",
       "      <td>7.000000</td>\n",
       "      <td>37.000000</td>\n",
       "      <td>38.750000</td>\n",
       "      <td>17.000000</td>\n",
       "      <td>17.000000</td>\n",
       "      <td>0.264706</td>\n",
       "    </tr>\n",
       "    <tr>\n",
       "      <th>50%</th>\n",
       "      <td>8721.000000</td>\n",
       "      <td>53.000000</td>\n",
       "      <td>49.000000</td>\n",
       "      <td>52.000000</td>\n",
       "      <td>53.000000</td>\n",
       "      <td>54.000000</td>\n",
       "      <td>46.000000</td>\n",
       "      <td>48.500000</td>\n",
       "      <td>52.000000</td>\n",
       "      <td>12.000000</td>\n",
       "      <td>13.000000</td>\n",
       "      <td>9.000000</td>\n",
       "      <td>45.000000</td>\n",
       "      <td>47.000000</td>\n",
       "      <td>18.000000</td>\n",
       "      <td>18.000000</td>\n",
       "      <td>0.342105</td>\n",
       "    </tr>\n",
       "    <tr>\n",
       "      <th>75%</th>\n",
       "      <td>9927.000000</td>\n",
       "      <td>63.000000</td>\n",
       "      <td>55.000000</td>\n",
       "      <td>60.000000</td>\n",
       "      <td>63.000000</td>\n",
       "      <td>63.000000</td>\n",
       "      <td>53.000000</td>\n",
       "      <td>57.000000</td>\n",
       "      <td>59.000000</td>\n",
       "      <td>16.000000</td>\n",
       "      <td>17.000000</td>\n",
       "      <td>11.000000</td>\n",
       "      <td>56.000000</td>\n",
       "      <td>56.000000</td>\n",
       "      <td>19.000000</td>\n",
       "      <td>19.000000</td>\n",
       "      <td>0.466667</td>\n",
       "    </tr>\n",
       "    <tr>\n",
       "      <th>max</th>\n",
       "      <td>274581.000000</td>\n",
       "      <td>80.000000</td>\n",
       "      <td>80.000000</td>\n",
       "      <td>80.000000</td>\n",
       "      <td>80.000000</td>\n",
       "      <td>80.000000</td>\n",
       "      <td>72.000000</td>\n",
       "      <td>72.000000</td>\n",
       "      <td>73.000000</td>\n",
       "      <td>33.000000</td>\n",
       "      <td>29.000000</td>\n",
       "      <td>19.000000</td>\n",
       "      <td>121.000000</td>\n",
       "      <td>98.000000</td>\n",
       "      <td>20.000000</td>\n",
       "      <td>20.000000</td>\n",
       "      <td>0.900000</td>\n",
       "    </tr>\n",
       "  </tbody>\n",
       "</table>\n",
       "</div>"
      ],
      "text/plain": [
       "                team  buildUpPlaySpeed  buildUpPlayPassing  \\\n",
       "count    1068.000000       1068.000000         1068.000000   \n",
       "mean     9765.209738         52.522472           47.895131   \n",
       "std     12501.630844         11.996503           11.092702   \n",
       "min      1601.000000         20.000000           20.000000   \n",
       "25%      8472.000000         45.000000           39.000000   \n",
       "50%      8721.000000         53.000000           49.000000   \n",
       "75%      9927.000000         63.000000           55.000000   \n",
       "max    274581.000000         80.000000           80.000000   \n",
       "\n",
       "       chanceCreationPassing  chanceCreationCrossing  chanceCreationShooting  \\\n",
       "count            1068.000000             1068.000000             1068.000000   \n",
       "mean               52.444757               53.808989               54.226592   \n",
       "std                10.519930               11.215827               10.572159   \n",
       "min                21.000000               20.000000               22.000000   \n",
       "25%                46.000000               47.000000               48.750000   \n",
       "50%                52.000000               53.000000               54.000000   \n",
       "75%                60.000000               63.000000               63.000000   \n",
       "max                80.000000               80.000000               80.000000   \n",
       "\n",
       "       defencePressure  defenceAggression  defenceTeamWidth          win  \\\n",
       "count      1068.000000        1068.000000       1068.000000  1068.000000   \n",
       "mean         46.521536          49.641386         52.286517    13.237828   \n",
       "std          10.437950          10.029836          9.647310     5.631581   \n",
       "min          23.000000          24.000000         30.000000     1.000000   \n",
       "25%          39.000000          44.000000         48.000000     9.000000   \n",
       "50%          46.000000          48.500000         52.000000    12.000000   \n",
       "75%          53.000000          57.000000         59.000000    16.000000   \n",
       "max          72.000000          72.000000         73.000000    33.000000   \n",
       "\n",
       "              loss         draw   team_goals  oponent_goals         home  \\\n",
       "count  1068.000000  1068.000000  1068.000000    1068.000000  1068.000000   \n",
       "mean     13.023408     8.886704    47.909176      47.404494    17.573034   \n",
       "std       5.175859     2.972743    16.120801      13.264071     1.795888   \n",
       "min       0.000000     0.000000     5.000000       6.000000     3.000000   \n",
       "25%      10.000000     7.000000    37.000000      38.750000    17.000000   \n",
       "50%      13.000000     9.000000    45.000000      47.000000    18.000000   \n",
       "75%      17.000000    11.000000    56.000000      56.000000    19.000000   \n",
       "max      29.000000    19.000000   121.000000      98.000000    20.000000   \n",
       "\n",
       "              away     win_perc  \n",
       "count  1068.000000  1068.000000  \n",
       "mean     17.574906     0.376679  \n",
       "std       1.798939     0.155065  \n",
       "min       3.000000     0.078947  \n",
       "25%      17.000000     0.264706  \n",
       "50%      18.000000     0.342105  \n",
       "75%      19.000000     0.466667  \n",
       "max      20.000000     0.900000  "
      ]
     },
     "execution_count": 96,
     "metadata": {},
     "output_type": "execute_result"
    }
   ],
   "source": [
    "attribs_stats.describe()"
   ]
  },
  {
   "cell_type": "markdown",
   "metadata": {},
   "source": [
    "### What teams improved the most over the time period?"
   ]
  },
  {
   "cell_type": "code",
   "execution_count": 97,
   "metadata": {},
   "outputs": [
    {
     "data": {
      "text/html": [
       "<div>\n",
       "<style scoped>\n",
       "    .dataframe tbody tr th:only-of-type {\n",
       "        vertical-align: middle;\n",
       "    }\n",
       "\n",
       "    .dataframe tbody tr th {\n",
       "        vertical-align: top;\n",
       "    }\n",
       "\n",
       "    .dataframe thead th {\n",
       "        text-align: right;\n",
       "    }\n",
       "</style>\n",
       "<table border=\"1\" class=\"dataframe\">\n",
       "  <thead>\n",
       "    <tr style=\"text-align: right;\">\n",
       "      <th></th>\n",
       "      <th>team</th>\n",
       "      <th>new_score</th>\n",
       "      <th>old_score</th>\n",
       "      <th>improvement</th>\n",
       "    </tr>\n",
       "  </thead>\n",
       "  <tbody>\n",
       "    <tr>\n",
       "      <th>17</th>\n",
       "      <td>Atlético Madrid</td>\n",
       "      <td>2.184211</td>\n",
       "      <td>1.500000</td>\n",
       "      <td>0.684211</td>\n",
       "    </tr>\n",
       "    <tr>\n",
       "      <th>149</th>\n",
       "      <td>Paris Saint-Germain</td>\n",
       "      <td>2.309211</td>\n",
       "      <td>1.644737</td>\n",
       "      <td>0.664474</td>\n",
       "    </tr>\n",
       "    <tr>\n",
       "      <th>5</th>\n",
       "      <td>AS Monaco</td>\n",
       "      <td>1.894737</td>\n",
       "      <td>1.263158</td>\n",
       "      <td>0.631579</td>\n",
       "    </tr>\n",
       "    <tr>\n",
       "      <th>108</th>\n",
       "      <td>Juventus</td>\n",
       "      <td>2.414474</td>\n",
       "      <td>1.785235</td>\n",
       "      <td>0.629239</td>\n",
       "    </tr>\n",
       "    <tr>\n",
       "      <th>158</th>\n",
       "      <td>RAEC Mons</td>\n",
       "      <td>1.466667</td>\n",
       "      <td>0.859375</td>\n",
       "      <td>0.607292</td>\n",
       "    </tr>\n",
       "  </tbody>\n",
       "</table>\n",
       "</div>"
      ],
      "text/plain": [
       "                    team  new_score  old_score  improvement\n",
       "17       Atlético Madrid   2.184211   1.500000     0.684211\n",
       "149  Paris Saint-Germain   2.309211   1.644737     0.664474\n",
       "5              AS Monaco   1.894737   1.263158     0.631579\n",
       "108             Juventus   2.414474   1.785235     0.629239\n",
       "158            RAEC Mons   1.466667   0.859375     0.607292"
      ]
     },
     "execution_count": 97,
     "metadata": {},
     "output_type": "execute_result"
    }
   ],
   "source": [
    "compare_score.head()"
   ]
  },
  {
   "cell_type": "markdown",
   "metadata": {},
   "source": [
    "We can see that Atlético Madrid, Paris Saint-Germain and AS Monaco are the teams that improved the most over the time period."
   ]
  },
  {
   "cell_type": "markdown",
   "metadata": {},
   "source": [
    "### What team attributes lead to the most victories?"
   ]
  },
  {
   "cell_type": "code",
   "execution_count": 98,
   "metadata": {},
   "outputs": [],
   "source": [
    "grouped_attribs = attribs_stats.groupby('win_cats').agg({\n",
    "    'buildUpPlaySpeed':'mean', 'buildUpPlayPassing':'mean', 'chanceCreationPassing':'mean', \n",
    "    'chanceCreationCrossing':'mean', 'chanceCreationShooting':'mean', 'defencePressure':'mean',\n",
    "    'defenceAggression':'mean', 'defenceTeamWidth':'mean'}).reset_index()"
   ]
  },
  {
   "cell_type": "code",
   "execution_count": 99,
   "metadata": {},
   "outputs": [
    {
     "data": {
      "text/html": [
       "<div>\n",
       "<style scoped>\n",
       "    .dataframe tbody tr th:only-of-type {\n",
       "        vertical-align: middle;\n",
       "    }\n",
       "\n",
       "    .dataframe tbody tr th {\n",
       "        vertical-align: top;\n",
       "    }\n",
       "\n",
       "    .dataframe thead th {\n",
       "        text-align: right;\n",
       "    }\n",
       "</style>\n",
       "<table border=\"1\" class=\"dataframe\">\n",
       "  <thead>\n",
       "    <tr style=\"text-align: right;\">\n",
       "      <th></th>\n",
       "      <th>win_cats</th>\n",
       "      <th>buildUpPlaySpeed</th>\n",
       "      <th>buildUpPlayPassing</th>\n",
       "      <th>chanceCreationPassing</th>\n",
       "      <th>chanceCreationCrossing</th>\n",
       "      <th>chanceCreationShooting</th>\n",
       "      <th>defencePressure</th>\n",
       "      <th>defenceAggression</th>\n",
       "      <th>defenceTeamWidth</th>\n",
       "    </tr>\n",
       "  </thead>\n",
       "  <tbody>\n",
       "    <tr>\n",
       "      <th>0</th>\n",
       "      <td>max_wins</td>\n",
       "      <td>52.560886</td>\n",
       "      <td>50.254613</td>\n",
       "      <td>51.815498</td>\n",
       "      <td>52.505535</td>\n",
       "      <td>53.852399</td>\n",
       "      <td>44.476015</td>\n",
       "      <td>48.730627</td>\n",
       "      <td>51.453875</td>\n",
       "    </tr>\n",
       "    <tr>\n",
       "      <th>1</th>\n",
       "      <td>med_high_wins</td>\n",
       "      <td>52.180723</td>\n",
       "      <td>47.550201</td>\n",
       "      <td>51.987952</td>\n",
       "      <td>52.654618</td>\n",
       "      <td>53.188755</td>\n",
       "      <td>44.803213</td>\n",
       "      <td>49.156627</td>\n",
       "      <td>51.895582</td>\n",
       "    </tr>\n",
       "    <tr>\n",
       "      <th>2</th>\n",
       "      <td>med_low_wins</td>\n",
       "      <td>52.610526</td>\n",
       "      <td>48.638596</td>\n",
       "      <td>52.740351</td>\n",
       "      <td>54.950877</td>\n",
       "      <td>54.245614</td>\n",
       "      <td>46.943860</td>\n",
       "      <td>49.712281</td>\n",
       "      <td>52.498246</td>\n",
       "    </tr>\n",
       "    <tr>\n",
       "      <th>3</th>\n",
       "      <td>min_wins</td>\n",
       "      <td>52.711027</td>\n",
       "      <td>44.984791</td>\n",
       "      <td>53.205323</td>\n",
       "      <td>55.007605</td>\n",
       "      <td>55.574144</td>\n",
       "      <td>49.798479</td>\n",
       "      <td>50.961977</td>\n",
       "      <td>53.285171</td>\n",
       "    </tr>\n",
       "  </tbody>\n",
       "</table>\n",
       "</div>"
      ],
      "text/plain": [
       "        win_cats  buildUpPlaySpeed  buildUpPlayPassing  chanceCreationPassing  \\\n",
       "0       max_wins         52.560886           50.254613              51.815498   \n",
       "1  med_high_wins         52.180723           47.550201              51.987952   \n",
       "2   med_low_wins         52.610526           48.638596              52.740351   \n",
       "3       min_wins         52.711027           44.984791              53.205323   \n",
       "\n",
       "   chanceCreationCrossing  chanceCreationShooting  defencePressure  \\\n",
       "0               52.505535               53.852399        44.476015   \n",
       "1               52.654618               53.188755        44.803213   \n",
       "2               54.950877               54.245614        46.943860   \n",
       "3               55.007605               55.574144        49.798479   \n",
       "\n",
       "   defenceAggression  defenceTeamWidth  \n",
       "0          48.730627         51.453875  \n",
       "1          49.156627         51.895582  \n",
       "2          49.712281         52.498246  \n",
       "3          50.961977         53.285171  "
      ]
     },
     "execution_count": 99,
     "metadata": {},
     "output_type": "execute_result"
    }
   ],
   "source": [
    "grouped_attribs.head()"
   ]
  },
  {
   "cell_type": "markdown",
   "metadata": {
    "collapsed": true
   },
   "source": [
    "From the table above and the previous plots we can see there are three attributes that are inversely correlated with most vicotires:\n",
    "1. defence pressure: Most wins are corelated with lower defence pressuer!\n",
    "2. chanceCreationCrossing: Most wins are correlated with lower chance creation from corssing!\n",
    "3. defenceTeamWidth: Most wins are correlated with lower defence team width!\n",
    "\n",
    "So the answer to that question is: lower defence pressure, lower chance creation from corssing, and lower defence team width are the attributes that lead to the most victories"
   ]
  },
  {
   "cell_type": "markdown",
   "metadata": {},
   "source": [
    "<a id='conclusions'></a>\n",
    "## Conclusions\n",
    "\n",
    "### It has to be clear that this data is tentative and cannot be treated as final conclusion\n",
    "\n",
    "The data shows that teams tend to win when playing home much more than they lose or draw.\n",
    "\n",
    "It shows also that teams tend to score slightly more goals when playing home.\n",
    "\n",
    "Data shows also that Atlético Madrid, Paris Saint-Germain and AS Monaco are the teams that improved the most over the time \n",
    "period from seaons 2008/2009:2011/2012 to seasons 2012/2013:2015/2016\n",
    "\n",
    "There is some inverse correlation between teams with most victories and some team attributes, namely: defence pressuer, chance creation from crossing and defence team width. looks like the less teams focus on defence the more they win.\n"
   ]
  },
  {
   "cell_type": "code",
   "execution_count": 100,
   "metadata": {},
   "outputs": [
    {
     "data": {
      "text/plain": [
       "0"
      ]
     },
     "execution_count": 100,
     "metadata": {},
     "output_type": "execute_result"
    }
   ],
   "source": [
    "from subprocess import call\n",
    "call(['python', '-m', 'nbconvert', 'Investigate_a_Dataset.ipynb'])"
   ]
  }
 ],
 "metadata": {
  "kernelspec": {
   "display_name": "Python 3",
   "language": "python",
   "name": "python3"
  },
  "language_info": {
   "codemirror_mode": {
    "name": "ipython",
    "version": 3
   },
   "file_extension": ".py",
   "mimetype": "text/x-python",
   "name": "python",
   "nbconvert_exporter": "python",
   "pygments_lexer": "ipython3",
   "version": "3.6.3"
  }
 },
 "nbformat": 4,
 "nbformat_minor": 2
}
